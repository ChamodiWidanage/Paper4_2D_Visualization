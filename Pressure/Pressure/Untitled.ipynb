{
 "cells": [
  {
   "cell_type": "code",
   "execution_count": 20,
   "id": "5ea5e635-9d84-4b57-9a95-fe1ee9795ea0",
   "metadata": {},
   "outputs": [],
   "source": [
    "import matplotlib.pyplot as plt\n",
    "import numpy as np\n",
    "import matplotlib"
   ]
  },
  {
   "cell_type": "code",
   "execution_count": 18,
   "id": "43181263-6633-4e9d-a4f3-f51576022a32",
   "metadata": {},
   "outputs": [
    {
     "name": "stdout",
     "output_type": "stream",
     "text": [
      "[[0.267004 0.004874 0.329415 1.      ]\n",
      " [0.26851  0.009605 0.335427 1.      ]\n",
      " [0.269944 0.014625 0.341379 1.      ]\n",
      " ...\n",
      " [0.974417 0.90359  0.130215 1.      ]\n",
      " [0.983868 0.904867 0.136897 1.      ]\n",
      " [0.993248 0.906157 0.143936 1.      ]]\n",
      "2\n",
      "256\n"
     ]
    }
   ],
   "source": [
    "cmap = plt.colormaps.get_cmap(\"viridis\")\n",
    "#cmap = plt.get_cmap(\"viridis\",10)\n",
    "colors = cmap(np.arange(cmap.N))\n",
    "print (colors)\n",
    "print (colors.ndim)\n",
    "print (cmap.N)"
   ]
  },
  {
   "cell_type": "code",
   "execution_count": 19,
   "id": "ff666751-2372-4ec7-9bfa-9fa4585a1417",
   "metadata": {},
   "outputs": [
    {
     "data": {
      "text/plain": [
       "0.25098039215686274"
      ]
     },
     "execution_count": 19,
     "metadata": {},
     "output_type": "execute_result"
    }
   ],
   "source": [
    "np.interp(x=64,xp=[0,255],fp=[0,1])"
   ]
  },
  {
   "cell_type": "code",
   "execution_count": 21,
   "id": "476648fa-e1ba-4901-ad3a-2f3aa2d4fb12",
   "metadata": {},
   "outputs": [],
   "source": [
    "cdict = {'red': ((0.0, 0.0, 0.0),\n",
    "                 (0.25, 0.2, 0.2),\n",
    "                 (0.5, 0.0, 0.0),\n",
    "                 (0.75, 1.0, 1.0),\n",
    "                 (1.0, 1.0, 1.0)),\n",
    "        'green':((0.0, 0.0, 0.0),\n",
    "                 (0.25, 1.0, 1.0),\n",
    "                 (0.5, 1.0, 1.0),\n",
    "                 (0.75, 1.0, 1.0),\n",
    "                 (1.0, 0.0, 0.0)),\n",
    "        'blue': ((0.0, 1.0, 1.0),\n",
    "                 (0.25, 1.0, 1.0),\n",
    "                 (0.5, 0.0, 0.0),\n",
    "                 (0.75, 0.0, 0.0),\n",
    "                 (1.0, 0.0, 0.0))}"
   ]
  },
  {
   "cell_type": "code",
   "execution_count": 22,
   "id": "c65ae1ea-9224-4b91-91d5-be660ee74f29",
   "metadata": {},
   "outputs": [
    {
     "data": {
      "image/png": "[encoded data removed]",
      "text/plain": [
       "<Figure size 432x288 with 2 Axes>"
      ]
     },
     "metadata": {
      "needs_background": "light"
     },
     "output_type": "display_data"
    }
   ],
   "source": [
    "my_cmap = matplotlib.colors.LinearSegmentedColormap('my_colormap',cdict,256)\n",
    "plt.pcolor(np.random.rand(10,10),cmap=my_cmap)\n",
    "plt.colorbar()\n",
    "plt.show()"
   ]
  }
 ],
 "metadata": {
  "kernelspec": {
   "display_name": "Python 3 (ipykernel)",
   "language": "python",
   "name": "python3"
  },
  "language_info": {
   "codemirror_mode": {
    "name": "ipython",
    "version": 3
   },
   "file_extension": ".py",
   "mimetype": "text/x-python",
   "name": "python",
   "nbconvert_exporter": "python",
   "pygments_lexer": "ipython3",
   "version": "3.9.7"
  }
 },
 "nbformat": 4,
 "nbformat_minor": 5
}
