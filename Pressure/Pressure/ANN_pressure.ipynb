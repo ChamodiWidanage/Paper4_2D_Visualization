{
 "cells": [
  {
   "cell_type": "markdown",
   "metadata": {
    "colab_type": "text",
    "id": "3cbb7fRy-eyr"
   },
   "source": [
    "# Artificial Neural Network"
   ]
  },
  {
   "cell_type": "markdown",
   "metadata": {
    "colab_type": "text",
    "id": "8sNDnxE2-pwE",
    "tags": []
   },
   "source": [
    "## Part 1 - Importing the libraries"
   ]
  },
  {
   "cell_type": "code",
   "execution_count": 1,
   "metadata": {
    "colab": {},
    "colab_type": "code",
    "id": "lxChR1Rk-umf"
   },
   "outputs": [],
   "source": [
    "import numpy as np\n",
    "import pandas as pd\n",
    "import tensorflow as tf\n",
    "import matplotlib.pyplot as plt\n",
    "import pickle\n",
    "import seaborn as sn\n",
    "from sklearn.model_selection import train_test_split\n",
    "from keras.callbacks import EarlyStopping\n",
    "import matplotlib"
   ]
  },
  {
   "cell_type": "markdown",
   "metadata": {
    "colab_type": "text",
    "id": "-4zq8Mza_D9O",
    "jp-MarkdownHeadingCollapsed": true,
    "tags": []
   },
   "source": [
    "## Part 2 - Importing the dataset"
   ]
  },
  {
   "cell_type": "code",
   "execution_count": 3,
   "metadata": {
    "colab": {},
    "colab_type": "code",
    "id": "B9CV13Co_HHM"
   },
   "outputs": [
    {
     "name": "stdout",
     "output_type": "stream",
     "text": [
      "<class 'pandas.core.frame.DataFrame'>\n",
      "RangeIndex: 546 entries, 0 to 545\n",
      "Data columns (total 4 columns):\n",
      " #   Column             Non-Null Count  Dtype  \n",
      "---  ------             --------------  -----  \n",
      " 0   Charge_type        546 non-null    object \n",
      " 1   Charge_size        546 non-null    float64\n",
      " 2   Standoff_distance  546 non-null    float64\n",
      " 3   Incident_pressure  546 non-null    float64\n",
      "dtypes: float64(3), object(1)\n",
      "memory usage: 17.2+ KB\n"
     ]
    }
   ],
   "source": [
    "dataset = pd.read_excel('Pressure.xlsx')\n",
    "dataset.info()"
   ]
  },
  {
   "cell_type": "markdown",
   "metadata": {
    "jp-MarkdownHeadingCollapsed": true,
    "tags": []
   },
   "source": [
    "## Part 3 -  Preprocessing"
   ]
  },
  {
   "cell_type": "markdown",
   "metadata": {},
   "source": [
    "### Convert categorical variable into dummy variables"
   ]
  },
  {
   "cell_type": "code",
   "execution_count": 4,
   "metadata": {},
   "outputs": [
    {
     "name": "stdout",
     "output_type": "stream",
     "text": [
      "<class 'pandas.core.frame.DataFrame'>\n",
      "RangeIndex: 546 entries, 0 to 545\n",
      "Data columns (total 5 columns):\n",
      " #   Column             Non-Null Count  Dtype  \n",
      "---  ------             --------------  -----  \n",
      " 0   Charge_size        546 non-null    float64\n",
      " 1   Standoff_distance  546 non-null    float64\n",
      " 2   Incident_pressure  546 non-null    float64\n",
      " 3   Charge_type_CompB  546 non-null    uint8  \n",
      " 4   Charge_type_TNT    546 non-null    uint8  \n",
      "dtypes: float64(3), uint8(2)\n",
      "memory usage: 14.0 KB\n"
     ]
    }
   ],
   "source": [
    "dataset = pd.get_dummies(dataset, columns=['Charge_type'])\n",
    "dataset.info()"
   ]
  },
  {
   "cell_type": "code",
   "execution_count": 4,
   "metadata": {},
   "outputs": [
    {
     "data": {
      "text/html": [
       "<div>\n",
       "<style scoped>\n",
       "    .dataframe tbody tr th:only-of-type {\n",
       "        vertical-align: middle;\n",
       "    }\n",
       "\n",
       "    .dataframe tbody tr th {\n",
       "        vertical-align: top;\n",
       "    }\n",
       "\n",
       "    .dataframe thead th {\n",
       "        text-align: right;\n",
       "    }\n",
       "</style>\n",
       "<table border=\"1\" class=\"dataframe\">\n",
       "  <thead>\n",
       "    <tr style=\"text-align: right;\">\n",
       "      <th></th>\n",
       "      <th>Charge_size</th>\n",
       "      <th>Standoff_distance</th>\n",
       "      <th>Incident_pressure</th>\n",
       "      <th>Charge_type_CompB</th>\n",
       "      <th>Charge_type_TNT</th>\n",
       "    </tr>\n",
       "  </thead>\n",
       "  <tbody>\n",
       "    <tr>\n",
       "      <th>0</th>\n",
       "      <td>0.5</td>\n",
       "      <td>1.5</td>\n",
       "      <td>283.258</td>\n",
       "      <td>0</td>\n",
       "      <td>1</td>\n",
       "    </tr>\n",
       "    <tr>\n",
       "      <th>1</th>\n",
       "      <td>0.5</td>\n",
       "      <td>2.5</td>\n",
       "      <td>163.904</td>\n",
       "      <td>0</td>\n",
       "      <td>1</td>\n",
       "    </tr>\n",
       "    <tr>\n",
       "      <th>2</th>\n",
       "      <td>0.5</td>\n",
       "      <td>3.5</td>\n",
       "      <td>135.678</td>\n",
       "      <td>0</td>\n",
       "      <td>1</td>\n",
       "    </tr>\n",
       "    <tr>\n",
       "      <th>3</th>\n",
       "      <td>0.5</td>\n",
       "      <td>4.5</td>\n",
       "      <td>124.039</td>\n",
       "      <td>0</td>\n",
       "      <td>1</td>\n",
       "    </tr>\n",
       "    <tr>\n",
       "      <th>4</th>\n",
       "      <td>0.5</td>\n",
       "      <td>5.5</td>\n",
       "      <td>117.856</td>\n",
       "      <td>0</td>\n",
       "      <td>1</td>\n",
       "    </tr>\n",
       "  </tbody>\n",
       "</table>\n",
       "</div>"
      ],
      "text/plain": [
       "   Charge_size  Standoff_distance  Incident_pressure  Charge_type_CompB  \\\n",
       "0          0.5                1.5            283.258                  0   \n",
       "1          0.5                2.5            163.904                  0   \n",
       "2          0.5                3.5            135.678                  0   \n",
       "3          0.5                4.5            124.039                  0   \n",
       "4          0.5                5.5            117.856                  0   \n",
       "\n",
       "   Charge_type_TNT  \n",
       "0                1  \n",
       "1                1  \n",
       "2                1  \n",
       "3                1  \n",
       "4                1  "
      ]
     },
     "execution_count": 4,
     "metadata": {},
     "output_type": "execute_result"
    }
   ],
   "source": [
    "dataset.head()"
   ]
  },
  {
   "cell_type": "markdown",
   "metadata": {},
   "source": [
    "### Dividing the dataset into independent and depenedent varibales"
   ]
  },
  {
   "cell_type": "code",
   "execution_count": 5,
   "metadata": {},
   "outputs": [
    {
     "name": "stdout",
     "output_type": "stream",
     "text": [
      "(546, 4) (546,)\n"
     ]
    }
   ],
   "source": [
    "y = dataset['Incident_pressure']\n",
    "X = dataset.drop('Incident_pressure', axis=1)\n",
    "print(X.shape, y.shape)"
   ]
  },
  {
   "cell_type": "markdown",
   "metadata": {},
   "source": [
    "### Convert to numpy array"
   ]
  },
  {
   "cell_type": "code",
   "execution_count": 6,
   "metadata": {},
   "outputs": [],
   "source": [
    "X = np.array(X)\n",
    "y = np.array(y)"
   ]
  },
  {
   "cell_type": "markdown",
   "metadata": {
    "colab_type": "text",
    "id": "VC6omXel_Up0"
   },
   "source": [
    "### Splitting the dataset into the Training set and Test set"
   ]
  },
  {
   "cell_type": "code",
   "execution_count": 7,
   "metadata": {
    "colab": {},
    "colab_type": "code",
    "id": "L5edeb2r_agx"
   },
   "outputs": [],
   "source": [
    "X_train, X_test, y_train, y_test = train_test_split(X, y, test_size = 0.3, random_state = 20)"
   ]
  },
  {
   "cell_type": "code",
   "execution_count": 8,
   "metadata": {},
   "outputs": [],
   "source": [
    "X_val, X_test, y_val, y_test = train_test_split(X, y, test_size = 0.5, random_state = 20)"
   ]
  },
  {
   "cell_type": "markdown",
   "metadata": {
    "colab_type": "text",
    "id": "_mSLlAT9_eyI",
    "jp-MarkdownHeadingCollapsed": true,
    "tags": []
   },
   "source": [
    "## Part 4 - Building the ANN"
   ]
  },
  {
   "cell_type": "markdown",
   "metadata": {
    "colab_type": "text",
    "id": "CsBULd_f_wLY"
   },
   "source": [
    "### Initializing the ANN"
   ]
  },
  {
   "cell_type": "code",
   "execution_count": 8,
   "metadata": {
    "colab": {},
    "colab_type": "code",
    "id": "J6Hd97Ls__Nz"
   },
   "outputs": [],
   "source": [
    "ann = tf.keras.models.Sequential()"
   ]
  },
  {
   "cell_type": "markdown",
   "metadata": {
    "colab_type": "text",
    "id": "iitAFJS_ABUn"
   },
   "source": [
    "### Adding the input layer and the first hidden layer"
   ]
  },
  {
   "cell_type": "code",
   "execution_count": 9,
   "metadata": {
    "colab": {},
    "colab_type": "code",
    "id": "ksO_Vv40AHix"
   },
   "outputs": [],
   "source": [
    "ann.add(tf.keras.layers.Dense(units=200, input_shape=(X_train.shape[1],), activation='relu'))"
   ]
  },
  {
   "cell_type": "markdown",
   "metadata": {
    "colab_type": "text",
    "id": "-lb4kK_wAKbs"
   },
   "source": [
    "### Adding the second hidden layer"
   ]
  },
  {
   "cell_type": "code",
   "execution_count": 10,
   "metadata": {
    "colab": {},
    "colab_type": "code",
    "id": "c2357OqEAQOQ",
    "tags": []
   },
   "outputs": [],
   "source": [
    "ann.add(tf.keras.layers.Dense(units=125, activation='relu'))"
   ]
  },
  {
   "cell_type": "markdown",
   "metadata": {
    "colab_type": "text",
    "id": "-lb4kK_wAKbs"
   },
   "source": [
    "### Adding the third hidden layer"
   ]
  },
  {
   "cell_type": "code",
   "execution_count": 11,
   "metadata": {
    "colab": {},
    "colab_type": "code",
    "id": "c2357OqEAQOQ",
    "tags": []
   },
   "outputs": [],
   "source": [
    "ann.add(tf.keras.layers.Dense(units=50, activation='relu'))"
   ]
  },
  {
   "cell_type": "markdown",
   "metadata": {
    "colab_type": "text",
    "id": "jwMOmKb3AdBY"
   },
   "source": [
    "### Adding the output layer"
   ]
  },
  {
   "cell_type": "code",
   "execution_count": 12,
   "metadata": {
    "colab": {},
    "colab_type": "code",
    "id": "YFATpzsUAkLL"
   },
   "outputs": [],
   "source": [
    "ann.add(tf.keras.layers.Dense(units=1, activation='linear'))"
   ]
  },
  {
   "cell_type": "markdown",
   "metadata": {},
   "source": [
    "### Model summary"
   ]
  },
  {
   "cell_type": "code",
   "execution_count": 13,
   "metadata": {},
   "outputs": [
    {
     "name": "stdout",
     "output_type": "stream",
     "text": [
      "Model: \"sequential\"\n",
      "_________________________________________________________________\n",
      " Layer (type)                Output Shape              Param #   \n",
      "=================================================================\n",
      " dense (Dense)               (None, 200)               1000      \n",
      "                                                                 \n",
      " dense_1 (Dense)             (None, 125)               25125     \n",
      "                                                                 \n",
      " dense_2 (Dense)             (None, 50)                6300      \n",
      "                                                                 \n",
      " dense_3 (Dense)             (None, 1)                 51        \n",
      "                                                                 \n",
      "=================================================================\n",
      "Total params: 32,476\n",
      "Trainable params: 32,476\n",
      "Non-trainable params: 0\n",
      "_________________________________________________________________\n"
     ]
    }
   ],
   "source": [
    "ann.summary()"
   ]
  },
  {
   "cell_type": "markdown",
   "metadata": {
    "colab_type": "text",
    "id": "fq7e4fF6A1yy",
    "tags": []
   },
   "source": [
    "## Part 5 - Training the ANN"
   ]
  },
  {
   "cell_type": "markdown",
   "metadata": {
    "colab_type": "text",
    "id": "qDeylAs2An25"
   },
   "source": [
    "### Compiling the ANN"
   ]
  },
  {
   "cell_type": "code",
   "execution_count": 14,
   "metadata": {
    "colab": {},
    "colab_type": "code",
    "id": "pesgbWlCAtB4"
   },
   "outputs": [],
   "source": [
    "from tensorflow.keras.optimizers import Adam\n",
    "opt = Adam(learning_rate=0.01)\n",
    "ann.compile(optimizer = opt, loss = 'mean_squared_error', metrics = ['mae'])"
   ]
  },
  {
   "cell_type": "markdown",
   "metadata": {},
   "source": [
    "### Early stopping callback"
   ]
  },
  {
   "cell_type": "code",
   "execution_count": 15,
   "metadata": {},
   "outputs": [],
   "source": [
    "# protects from unnecessary further training of the model if a particular metric does not continue to improve over a number of n epochs. In such a case, the model training would be automatically aborted.\n",
    "es = EarlyStopping(monitor='val_loss',\n",
    "                   mode='min',\n",
    "                   patience=50,\n",
    "                   restore_best_weights = True)"
   ]
  },
  {
   "cell_type": "markdown",
   "metadata": {
    "colab_type": "text",
    "id": "YjVuiybYOo7r"
   },
   "source": [
    "### Training the ANN model on the Training set"
   ]
  },
  {
   "cell_type": "code",
   "execution_count": 16,
   "metadata": {
    "colab": {
     "base_uri": "https://localhost:8080/",
     "height": 1000
    },
    "colab_type": "code",
    "id": "c_vV-tiiA5zn",
    "outputId": "4a2b6ee6-ed75-4698-9069-b250e613803f"
   },
   "outputs": [
    {
     "name": "stdout",
     "output_type": "stream",
     "text": [
      "Epoch 1/500\n",
      "7/7 [==============================] - 1s 29ms/step - loss: 821141.8750 - mae: 334.2036 - val_loss: 597894.0000 - val_mae: 247.1685\n",
      "Epoch 2/500\n",
      "7/7 [==============================] - 0s 8ms/step - loss: 729578.0625 - mae: 356.5981 - val_loss: 563093.4375 - val_mae: 361.5642\n",
      "Epoch 3/500\n",
      "7/7 [==============================] - 0s 9ms/step - loss: 686616.3125 - mae: 370.8875 - val_loss: 509888.0625 - val_mae: 295.9883\n",
      "Epoch 4/500\n",
      "7/7 [==============================] - 0s 9ms/step - loss: 627405.0000 - mae: 311.0883 - val_loss: 463398.1250 - val_mae: 277.4633\n",
      "Epoch 5/500\n",
      "7/7 [==============================] - 0s 9ms/step - loss: 561042.5000 - mae: 309.1911 - val_loss: 414369.3125 - val_mae: 288.2788\n",
      "Epoch 6/500\n",
      "7/7 [==============================] - 0s 9ms/step - loss: 513623.4062 - mae: 329.8443 - val_loss: 358015.5000 - val_mae: 268.8888\n",
      "Epoch 7/500\n",
      "7/7 [==============================] - 0s 8ms/step - loss: 419314.2500 - mae: 255.6275 - val_loss: 308484.8750 - val_mae: 208.0663\n",
      "Epoch 8/500\n",
      "7/7 [==============================] - 0s 8ms/step - loss: 372209.8438 - mae: 215.4594 - val_loss: 264760.7500 - val_mae: 199.1002\n",
      "Epoch 9/500\n",
      "7/7 [==============================] - 0s 8ms/step - loss: 281828.4062 - mae: 192.1928 - val_loss: 219867.5781 - val_mae: 169.2658\n",
      "Epoch 10/500\n",
      "7/7 [==============================] - 0s 8ms/step - loss: 259945.8906 - mae: 178.6985 - val_loss: 189441.0312 - val_mae: 164.6380\n",
      "Epoch 11/500\n",
      "7/7 [==============================] - 0s 9ms/step - loss: 203418.0469 - mae: 163.2528 - val_loss: 161883.4375 - val_mae: 152.9306\n",
      "Epoch 12/500\n",
      "7/7 [==============================] - 0s 9ms/step - loss: 185388.1406 - mae: 156.6886 - val_loss: 137460.1406 - val_mae: 141.6360\n",
      "Epoch 13/500\n",
      "7/7 [==============================] - 0s 9ms/step - loss: 146516.7656 - mae: 142.0211 - val_loss: 109758.3438 - val_mae: 125.6268\n",
      "Epoch 14/500\n",
      "7/7 [==============================] - 0s 10ms/step - loss: 121322.5625 - mae: 127.8391 - val_loss: 89426.2500 - val_mae: 113.9820\n",
      "Epoch 15/500\n",
      "7/7 [==============================] - 0s 9ms/step - loss: 112816.4219 - mae: 126.0159 - val_loss: 82193.8750 - val_mae: 109.0558\n",
      "Epoch 16/500\n",
      "7/7 [==============================] - 0s 8ms/step - loss: 103471.7344 - mae: 113.4096 - val_loss: 71351.2188 - val_mae: 105.3005\n",
      "Epoch 17/500\n",
      "7/7 [==============================] - 0s 8ms/step - loss: 79750.0000 - mae: 107.4239 - val_loss: 74910.4141 - val_mae: 105.8767\n",
      "Epoch 18/500\n",
      "7/7 [==============================] - 0s 8ms/step - loss: 83167.3438 - mae: 101.8867 - val_loss: 68417.2344 - val_mae: 115.6729\n",
      "Epoch 19/500\n",
      "7/7 [==============================] - 0s 8ms/step - loss: 104630.7656 - mae: 123.9090 - val_loss: 102329.1328 - val_mae: 145.5576\n",
      "Epoch 20/500\n",
      "7/7 [==============================] - 0s 8ms/step - loss: 194826.9531 - mae: 167.5516 - val_loss: 34668.7773 - val_mae: 71.3868\n",
      "Epoch 21/500\n",
      "7/7 [==============================] - 0s 8ms/step - loss: 113794.3047 - mae: 113.6269 - val_loss: 39464.8750 - val_mae: 75.2125\n",
      "Epoch 22/500\n",
      "7/7 [==============================] - 0s 8ms/step - loss: 145770.6719 - mae: 120.9974 - val_loss: 51833.6836 - val_mae: 75.7437\n",
      "Epoch 23/500\n",
      "7/7 [==============================] - 0s 9ms/step - loss: 45018.2109 - mae: 83.3344 - val_loss: 68818.4297 - val_mae: 85.7076\n",
      "Epoch 24/500\n",
      "7/7 [==============================] - 0s 15ms/step - loss: 44091.3086 - mae: 74.9275 - val_loss: 46091.4062 - val_mae: 94.8125\n",
      "Epoch 25/500\n",
      "7/7 [==============================] - 0s 7ms/step - loss: 48825.5234 - mae: 87.9997 - val_loss: 27505.8945 - val_mae: 69.4857\n",
      "Epoch 26/500\n",
      "7/7 [==============================] - 0s 10ms/step - loss: 41022.0156 - mae: 73.9678 - val_loss: 21923.1855 - val_mae: 55.1064\n",
      "Epoch 27/500\n",
      "7/7 [==============================] - 0s 8ms/step - loss: 24757.8555 - mae: 61.7280 - val_loss: 21372.9980 - val_mae: 56.0465\n",
      "Epoch 28/500\n",
      "7/7 [==============================] - 0s 9ms/step - loss: 23162.4219 - mae: 55.3990 - val_loss: 19348.5293 - val_mae: 52.7813\n",
      "Epoch 29/500\n",
      "7/7 [==============================] - 0s 10ms/step - loss: 18489.5898 - mae: 51.7700 - val_loss: 15106.4033 - val_mae: 49.1920\n",
      "Epoch 30/500\n",
      "7/7 [==============================] - 0s 9ms/step - loss: 15918.9316 - mae: 50.2144 - val_loss: 12188.4824 - val_mae: 40.4812\n",
      "Epoch 31/500\n",
      "7/7 [==============================] - 0s 9ms/step - loss: 19605.0586 - mae: 48.0800 - val_loss: 14254.0312 - val_mae: 43.2363\n",
      "Epoch 32/500\n",
      "7/7 [==============================] - 0s 9ms/step - loss: 19033.9590 - mae: 45.9817 - val_loss: 10292.5674 - val_mae: 37.6649\n",
      "Epoch 33/500\n",
      "7/7 [==============================] - 0s 9ms/step - loss: 26454.0684 - mae: 51.9808 - val_loss: 18180.8965 - val_mae: 62.2673\n",
      "Epoch 34/500\n",
      "7/7 [==============================] - 0s 9ms/step - loss: 33984.7109 - mae: 67.7300 - val_loss: 19611.2324 - val_mae: 65.0666\n",
      "Epoch 35/500\n",
      "7/7 [==============================] - 0s 8ms/step - loss: 32013.7695 - mae: 66.0773 - val_loss: 28802.5566 - val_mae: 84.5987\n",
      "Epoch 36/500\n",
      "7/7 [==============================] - 0s 8ms/step - loss: 45504.4727 - mae: 81.4218 - val_loss: 9792.2930 - val_mae: 40.0225\n",
      "Epoch 37/500\n",
      "7/7 [==============================] - 0s 7ms/step - loss: 8866.4473 - mae: 37.8208 - val_loss: 6807.3452 - val_mae: 34.0267\n",
      "Epoch 38/500\n",
      "7/7 [==============================] - 0s 10ms/step - loss: 7053.5386 - mae: 32.4158 - val_loss: 3294.4243 - val_mae: 21.2091\n",
      "Epoch 39/500\n",
      "7/7 [==============================] - 0s 7ms/step - loss: 4685.8838 - mae: 26.3869 - val_loss: 2508.1025 - val_mae: 21.6847\n",
      "Epoch 40/500\n",
      "7/7 [==============================] - 0s 9ms/step - loss: 3673.1411 - mae: 24.5828 - val_loss: 1654.7833 - val_mae: 21.7709\n",
      "Epoch 41/500\n",
      "7/7 [==============================] - 0s 9ms/step - loss: 2376.3904 - mae: 23.0426 - val_loss: 1512.5100 - val_mae: 16.4052\n",
      "Epoch 42/500\n",
      "7/7 [==============================] - 0s 8ms/step - loss: 1955.7816 - mae: 20.0811 - val_loss: 1083.7010 - val_mae: 15.3591\n",
      "Epoch 43/500\n",
      "7/7 [==============================] - 0s 10ms/step - loss: 1511.8982 - mae: 17.3746 - val_loss: 1015.7852 - val_mae: 13.5406\n",
      "Epoch 44/500\n",
      "7/7 [==============================] - 0s 9ms/step - loss: 1112.0619 - mae: 13.8086 - val_loss: 624.9973 - val_mae: 12.2065\n",
      "Epoch 45/500\n",
      "7/7 [==============================] - 0s 9ms/step - loss: 869.1528 - mae: 12.2653 - val_loss: 502.9795 - val_mae: 10.5332\n",
      "Epoch 46/500\n",
      "7/7 [==============================] - 0s 9ms/step - loss: 768.6376 - mae: 11.6412 - val_loss: 513.8577 - val_mae: 10.1556\n",
      "Epoch 47/500\n",
      "7/7 [==============================] - 0s 9ms/step - loss: 951.2814 - mae: 12.6863 - val_loss: 620.9282 - val_mae: 12.4025\n",
      "Epoch 48/500\n",
      "7/7 [==============================] - 0s 8ms/step - loss: 685.0823 - mae: 11.5991 - val_loss: 513.0974 - val_mae: 10.8597\n",
      "Epoch 49/500\n",
      "7/7 [==============================] - 0s 8ms/step - loss: 602.9520 - mae: 11.8242 - val_loss: 309.9201 - val_mae: 9.3410\n",
      "Epoch 50/500\n",
      "7/7 [==============================] - 0s 9ms/step - loss: 483.3155 - mae: 10.4383 - val_loss: 304.9257 - val_mae: 8.9358\n",
      "Epoch 51/500\n",
      "7/7 [==============================] - 0s 9ms/step - loss: 432.3672 - mae: 10.0342 - val_loss: 249.6301 - val_mae: 8.0319\n",
      "Epoch 52/500\n",
      "7/7 [==============================] - 0s 8ms/step - loss: 412.1697 - mae: 9.5292 - val_loss: 243.3581 - val_mae: 8.4440\n",
      "Epoch 53/500\n",
      "7/7 [==============================] - 0s 10ms/step - loss: 420.1011 - mae: 9.5052 - val_loss: 262.6942 - val_mae: 8.8170\n",
      "Epoch 54/500\n",
      "7/7 [==============================] - 0s 8ms/step - loss: 378.4182 - mae: 9.6656 - val_loss: 234.2017 - val_mae: 9.0110\n",
      "Epoch 55/500\n",
      "7/7 [==============================] - 0s 9ms/step - loss: 338.8251 - mae: 9.1152 - val_loss: 285.3781 - val_mae: 8.9025\n",
      "Epoch 56/500\n",
      "7/7 [==============================] - 0s 9ms/step - loss: 463.6302 - mae: 10.2141 - val_loss: 323.4160 - val_mae: 9.8439\n",
      "Epoch 57/500\n",
      "7/7 [==============================] - 0s 8ms/step - loss: 481.1515 - mae: 10.4979 - val_loss: 229.6256 - val_mae: 7.7274\n",
      "Epoch 58/500\n",
      "7/7 [==============================] - 0s 9ms/step - loss: 302.3021 - mae: 9.2220 - val_loss: 209.6228 - val_mae: 7.6626\n",
      "Epoch 59/500\n",
      "7/7 [==============================] - 0s 10ms/step - loss: 399.7268 - mae: 9.5419 - val_loss: 162.2375 - val_mae: 6.3025\n",
      "Epoch 60/500\n",
      "7/7 [==============================] - 0s 17ms/step - loss: 480.6181 - mae: 9.8481 - val_loss: 324.3371 - val_mae: 9.7453\n",
      "Epoch 61/500\n",
      "7/7 [==============================] - 0s 8ms/step - loss: 370.4058 - mae: 9.3102 - val_loss: 249.4767 - val_mae: 9.1694\n",
      "Epoch 62/500\n",
      "7/7 [==============================] - 0s 8ms/step - loss: 314.9489 - mae: 8.5553 - val_loss: 354.6665 - val_mae: 9.1178\n",
      "Epoch 63/500\n",
      "7/7 [==============================] - 0s 9ms/step - loss: 357.1942 - mae: 8.5704 - val_loss: 199.9538 - val_mae: 7.1754\n",
      "Epoch 64/500\n",
      "7/7 [==============================] - 0s 9ms/step - loss: 266.1417 - mae: 7.8903 - val_loss: 127.4328 - val_mae: 5.7374\n",
      "Epoch 65/500\n",
      "7/7 [==============================] - 0s 9ms/step - loss: 286.3107 - mae: 8.0490 - val_loss: 172.0902 - val_mae: 6.3308\n",
      "Epoch 66/500\n",
      "7/7 [==============================] - 0s 9ms/step - loss: 274.4010 - mae: 7.1209 - val_loss: 140.4197 - val_mae: 5.8778\n",
      "Epoch 67/500\n",
      "7/7 [==============================] - 0s 9ms/step - loss: 300.3589 - mae: 7.0529 - val_loss: 159.8671 - val_mae: 5.7555\n",
      "Epoch 68/500\n",
      "7/7 [==============================] - 0s 8ms/step - loss: 310.1143 - mae: 7.2977 - val_loss: 331.7884 - val_mae: 9.3282\n",
      "Epoch 69/500\n",
      "7/7 [==============================] - 0s 8ms/step - loss: 454.3773 - mae: 9.4997 - val_loss: 229.6068 - val_mae: 7.5982\n",
      "Epoch 70/500\n",
      "7/7 [==============================] - 0s 8ms/step - loss: 234.4481 - mae: 8.0106 - val_loss: 183.5228 - val_mae: 6.6467\n",
      "Epoch 71/500\n",
      "7/7 [==============================] - 0s 8ms/step - loss: 301.9434 - mae: 8.2180 - val_loss: 109.8410 - val_mae: 4.9708\n",
      "Epoch 72/500\n",
      "7/7 [==============================] - 0s 8ms/step - loss: 268.9835 - mae: 7.0693 - val_loss: 269.0246 - val_mae: 7.3957\n",
      "Epoch 73/500\n",
      "7/7 [==============================] - 0s 8ms/step - loss: 325.9804 - mae: 7.1401 - val_loss: 334.9454 - val_mae: 8.7645\n",
      "Epoch 74/500\n",
      "7/7 [==============================] - 0s 9ms/step - loss: 420.3667 - mae: 9.5011 - val_loss: 424.0986 - val_mae: 9.2097\n",
      "Epoch 75/500\n",
      "7/7 [==============================] - 0s 9ms/step - loss: 683.8444 - mae: 11.1214 - val_loss: 234.3230 - val_mae: 9.0014\n",
      "Epoch 76/500\n",
      "7/7 [==============================] - 0s 7ms/step - loss: 732.3502 - mae: 12.1422 - val_loss: 706.8962 - val_mae: 16.4165\n",
      "Epoch 77/500\n",
      "7/7 [==============================] - 0s 8ms/step - loss: 438.8640 - mae: 11.3855 - val_loss: 714.4310 - val_mae: 14.2294\n",
      "Epoch 78/500\n",
      "7/7 [==============================] - 0s 7ms/step - loss: 454.2170 - mae: 12.8232 - val_loss: 681.2946 - val_mae: 12.5423\n",
      "Epoch 79/500\n",
      "7/7 [==============================] - 0s 8ms/step - loss: 1079.3551 - mae: 16.8220 - val_loss: 325.6034 - val_mae: 9.2421\n",
      "Epoch 80/500\n",
      "7/7 [==============================] - 0s 8ms/step - loss: 395.0304 - mae: 11.9328 - val_loss: 215.7171 - val_mae: 7.3217\n",
      "Epoch 81/500\n",
      "7/7 [==============================] - 0s 8ms/step - loss: 372.5399 - mae: 9.5861 - val_loss: 218.4682 - val_mae: 7.9535\n",
      "Epoch 82/500\n",
      "7/7 [==============================] - 0s 8ms/step - loss: 232.9023 - mae: 7.3195 - val_loss: 228.1736 - val_mae: 7.3881\n",
      "Epoch 83/500\n",
      "7/7 [==============================] - 0s 8ms/step - loss: 339.1217 - mae: 7.4880 - val_loss: 99.0035 - val_mae: 4.6248\n",
      "Epoch 84/500\n",
      "7/7 [==============================] - 0s 9ms/step - loss: 290.4335 - mae: 6.6168 - val_loss: 91.1254 - val_mae: 4.5156\n",
      "Epoch 85/500\n",
      "7/7 [==============================] - 0s 8ms/step - loss: 197.8239 - mae: 5.3874 - val_loss: 137.2457 - val_mae: 5.5189\n",
      "Epoch 86/500\n",
      "7/7 [==============================] - 0s 7ms/step - loss: 174.7357 - mae: 6.2378 - val_loss: 165.1261 - val_mae: 6.9986\n",
      "Epoch 87/500\n",
      "7/7 [==============================] - 0s 9ms/step - loss: 265.6141 - mae: 7.1820 - val_loss: 147.4431 - val_mae: 6.0998\n",
      "Epoch 88/500\n",
      "7/7 [==============================] - 0s 10ms/step - loss: 217.7921 - mae: 6.3865 - val_loss: 166.9670 - val_mae: 5.7088\n",
      "Epoch 89/500\n",
      "7/7 [==============================] - 0s 7ms/step - loss: 247.8649 - mae: 6.8557 - val_loss: 205.4942 - val_mae: 7.0854\n",
      "Epoch 90/500\n",
      "7/7 [==============================] - 0s 9ms/step - loss: 278.8185 - mae: 8.1336 - val_loss: 134.0658 - val_mae: 6.7950\n",
      "Epoch 91/500\n",
      "7/7 [==============================] - 0s 7ms/step - loss: 264.0716 - mae: 7.0113 - val_loss: 279.4371 - val_mae: 7.4842\n",
      "Epoch 92/500\n",
      "7/7 [==============================] - 0s 8ms/step - loss: 253.3514 - mae: 6.9126 - val_loss: 116.9363 - val_mae: 5.3646\n",
      "Epoch 93/500\n",
      "7/7 [==============================] - 0s 7ms/step - loss: 190.7577 - mae: 7.1839 - val_loss: 90.0505 - val_mae: 4.4728\n",
      "Epoch 94/500\n",
      "7/7 [==============================] - 0s 9ms/step - loss: 214.2625 - mae: 6.4005 - val_loss: 107.6672 - val_mae: 4.4602\n",
      "Epoch 95/500\n",
      "7/7 [==============================] - 0s 9ms/step - loss: 203.4965 - mae: 5.9525 - val_loss: 102.1830 - val_mae: 4.3171\n",
      "Epoch 96/500\n",
      "7/7 [==============================] - 0s 8ms/step - loss: 184.0724 - mae: 5.1309 - val_loss: 106.9469 - val_mae: 4.8287\n",
      "Epoch 97/500\n",
      "7/7 [==============================] - 0s 7ms/step - loss: 201.4100 - mae: 5.6634 - val_loss: 116.9369 - val_mae: 4.9965\n",
      "Epoch 98/500\n",
      "7/7 [==============================] - 0s 7ms/step - loss: 220.4890 - mae: 6.4788 - val_loss: 151.1310 - val_mae: 6.0113\n",
      "Epoch 99/500\n",
      "7/7 [==============================] - 0s 8ms/step - loss: 310.5405 - mae: 6.8279 - val_loss: 124.7714 - val_mae: 5.1549\n",
      "Epoch 100/500\n",
      "7/7 [==============================] - 0s 8ms/step - loss: 199.3348 - mae: 5.9140 - val_loss: 152.6935 - val_mae: 5.1648\n",
      "Epoch 101/500\n",
      "7/7 [==============================] - 0s 8ms/step - loss: 273.9907 - mae: 6.7649 - val_loss: 286.9704 - val_mae: 7.6350\n",
      "Epoch 102/500\n",
      "7/7 [==============================] - 0s 8ms/step - loss: 264.5227 - mae: 7.5412 - val_loss: 139.2741 - val_mae: 7.8026\n",
      "Epoch 103/500\n",
      "7/7 [==============================] - 0s 9ms/step - loss: 264.1578 - mae: 7.4916 - val_loss: 127.4742 - val_mae: 6.1580\n",
      "Epoch 104/500\n",
      "7/7 [==============================] - 0s 8ms/step - loss: 264.1974 - mae: 6.9621 - val_loss: 150.6795 - val_mae: 4.6491\n",
      "Epoch 105/500\n",
      "7/7 [==============================] - 0s 8ms/step - loss: 229.7908 - mae: 5.9370 - val_loss: 162.5841 - val_mae: 6.1471\n",
      "Epoch 106/500\n",
      "7/7 [==============================] - 0s 8ms/step - loss: 287.6561 - mae: 7.9454 - val_loss: 138.6614 - val_mae: 7.7834\n",
      "Epoch 107/500\n",
      "7/7 [==============================] - 0s 9ms/step - loss: 263.4088 - mae: 7.9082 - val_loss: 145.2047 - val_mae: 6.2568\n",
      "Epoch 108/500\n",
      "7/7 [==============================] - 0s 8ms/step - loss: 225.8429 - mae: 6.5753 - val_loss: 162.8260 - val_mae: 5.8959\n",
      "Epoch 109/500\n",
      "7/7 [==============================] - 0s 9ms/step - loss: 193.0057 - mae: 5.6251 - val_loss: 128.5741 - val_mae: 5.1239\n",
      "Epoch 110/500\n",
      "7/7 [==============================] - 0s 8ms/step - loss: 175.8249 - mae: 5.2699 - val_loss: 76.9710 - val_mae: 3.8610\n",
      "Epoch 111/500\n",
      "7/7 [==============================] - 0s 9ms/step - loss: 174.1984 - mae: 4.9698 - val_loss: 167.7645 - val_mae: 5.6288\n",
      "Epoch 112/500\n",
      "7/7 [==============================] - 0s 8ms/step - loss: 237.4470 - mae: 6.1127 - val_loss: 95.0160 - val_mae: 4.0084\n",
      "Epoch 113/500\n",
      "7/7 [==============================] - 0s 9ms/step - loss: 138.8217 - mae: 5.7546 - val_loss: 119.2039 - val_mae: 5.5580\n",
      "Epoch 114/500\n",
      "7/7 [==============================] - 0s 9ms/step - loss: 173.6097 - mae: 6.2554 - val_loss: 169.5954 - val_mae: 6.7989\n",
      "Epoch 115/500\n",
      "7/7 [==============================] - 0s 9ms/step - loss: 181.8002 - mae: 6.0264 - val_loss: 79.2865 - val_mae: 3.8546\n",
      "Epoch 116/500\n",
      "7/7 [==============================] - 0s 10ms/step - loss: 141.0607 - mae: 4.8256 - val_loss: 91.9343 - val_mae: 4.5835\n",
      "Epoch 117/500\n",
      "7/7 [==============================] - 0s 9ms/step - loss: 161.0434 - mae: 4.8995 - val_loss: 92.4581 - val_mae: 4.5412\n",
      "Epoch 118/500\n",
      "7/7 [==============================] - 0s 7ms/step - loss: 157.1395 - mae: 5.5161 - val_loss: 446.5805 - val_mae: 9.8415\n",
      "Epoch 119/500\n",
      "7/7 [==============================] - 0s 8ms/step - loss: 635.2119 - mae: 11.2729 - val_loss: 265.7882 - val_mae: 9.2804\n",
      "Epoch 120/500\n",
      "7/7 [==============================] - 0s 8ms/step - loss: 218.5613 - mae: 9.4095 - val_loss: 150.7857 - val_mae: 8.5938\n",
      "Epoch 121/500\n",
      "7/7 [==============================] - 0s 8ms/step - loss: 210.1407 - mae: 7.5196 - val_loss: 189.6966 - val_mae: 8.2384\n",
      "Epoch 122/500\n",
      "7/7 [==============================] - 0s 8ms/step - loss: 772.6933 - mae: 11.1392 - val_loss: 1763.4255 - val_mae: 19.4856\n",
      "Epoch 123/500\n",
      "7/7 [==============================] - 0s 8ms/step - loss: 2044.1702 - mae: 23.0299 - val_loss: 844.7107 - val_mae: 16.8404\n",
      "Epoch 124/500\n",
      "7/7 [==============================] - 0s 8ms/step - loss: 966.9711 - mae: 19.9987 - val_loss: 988.6667 - val_mae: 25.8939\n",
      "Epoch 125/500\n",
      "7/7 [==============================] - 0s 9ms/step - loss: 668.1711 - mae: 17.7105 - val_loss: 524.2583 - val_mae: 16.7302\n",
      "Epoch 126/500\n",
      "7/7 [==============================] - 0s 8ms/step - loss: 654.8036 - mae: 13.0915 - val_loss: 435.3097 - val_mae: 9.6128\n",
      "Epoch 127/500\n",
      "7/7 [==============================] - 0s 8ms/step - loss: 436.7178 - mae: 9.4471 - val_loss: 230.2917 - val_mae: 10.5276\n",
      "Epoch 128/500\n",
      "7/7 [==============================] - 0s 8ms/step - loss: 878.9854 - mae: 13.8185 - val_loss: 420.3886 - val_mae: 13.0708\n",
      "Epoch 129/500\n",
      "7/7 [==============================] - 0s 7ms/step - loss: 791.5432 - mae: 13.0936 - val_loss: 661.5497 - val_mae: 10.4198\n",
      "Epoch 130/500\n",
      "7/7 [==============================] - 0s 8ms/step - loss: 784.0750 - mae: 11.3587 - val_loss: 746.4729 - val_mae: 9.6991\n",
      "Epoch 131/500\n",
      "7/7 [==============================] - 0s 8ms/step - loss: 721.7639 - mae: 11.2203 - val_loss: 462.3612 - val_mae: 9.8583\n",
      "Epoch 132/500\n",
      "7/7 [==============================] - 0s 13ms/step - loss: 648.2098 - mae: 12.8289 - val_loss: 309.1062 - val_mae: 13.3670\n",
      "Epoch 133/500\n",
      "7/7 [==============================] - 0s 9ms/step - loss: 528.1688 - mae: 11.2939 - val_loss: 295.5626 - val_mae: 11.5795\n",
      "Epoch 134/500\n",
      "7/7 [==============================] - 0s 8ms/step - loss: 271.8296 - mae: 10.0431 - val_loss: 317.6472 - val_mae: 11.6579\n",
      "Epoch 135/500\n",
      "7/7 [==============================] - 0s 9ms/step - loss: 356.5517 - mae: 9.8934 - val_loss: 131.7504 - val_mae: 8.8032\n",
      "Epoch 136/500\n",
      "7/7 [==============================] - 0s 8ms/step - loss: 220.6985 - mae: 8.3989 - val_loss: 158.9540 - val_mae: 8.7199\n",
      "Epoch 137/500\n",
      "7/7 [==============================] - 0s 9ms/step - loss: 248.1924 - mae: 8.5151 - val_loss: 154.8767 - val_mae: 8.3540\n",
      "Epoch 138/500\n",
      "7/7 [==============================] - 0s 8ms/step - loss: 247.3457 - mae: 7.6711 - val_loss: 192.6225 - val_mae: 9.4740\n",
      "Epoch 139/500\n",
      "7/7 [==============================] - 0s 8ms/step - loss: 286.6776 - mae: 9.4755 - val_loss: 188.0314 - val_mae: 9.6979\n",
      "Epoch 140/500\n",
      "7/7 [==============================] - 0s 7ms/step - loss: 174.4574 - mae: 7.3225 - val_loss: 196.5721 - val_mae: 5.9873\n",
      "Epoch 141/500\n",
      "7/7 [==============================] - 0s 7ms/step - loss: 584.6879 - mae: 8.2991 - val_loss: 1104.6543 - val_mae: 13.3208\n",
      "Epoch 142/500\n",
      "7/7 [==============================] - 0s 7ms/step - loss: 1367.8230 - mae: 17.9391 - val_loss: 820.5873 - val_mae: 19.6001\n",
      "Epoch 143/500\n",
      "7/7 [==============================] - 0s 7ms/step - loss: 684.0419 - mae: 15.9445 - val_loss: 777.7791 - val_mae: 17.7589\n",
      "Epoch 144/500\n",
      "7/7 [==============================] - 0s 7ms/step - loss: 1091.4847 - mae: 17.4689 - val_loss: 995.9447 - val_mae: 12.2949\n",
      "Epoch 145/500\n",
      "7/7 [==============================] - 0s 7ms/step - loss: 4773.5859 - mae: 25.8879 - val_loss: 486.1501 - val_mae: 13.3479\n",
      "Epoch 146/500\n",
      "7/7 [==============================] - 0s 7ms/step - loss: 10311.8223 - mae: 37.6014 - val_loss: 21034.1758 - val_mae: 68.4338\n",
      "Epoch 147/500\n",
      "7/7 [==============================] - 0s 8ms/step - loss: 14302.3936 - mae: 56.2297 - val_loss: 8736.4619 - val_mae: 60.5439\n",
      "Epoch 148/500\n",
      "7/7 [==============================] - 0s 8ms/step - loss: 8659.7715 - mae: 46.3177 - val_loss: 2732.8394 - val_mae: 35.2923\n",
      "Epoch 149/500\n",
      "7/7 [==============================] - 0s 8ms/step - loss: 3882.6636 - mae: 30.6199 - val_loss: 8237.4697 - val_mae: 48.8938\n",
      "Epoch 150/500\n",
      "7/7 [==============================] - 0s 7ms/step - loss: 5818.9727 - mae: 41.1133 - val_loss: 1273.8374 - val_mae: 16.8205\n",
      "Epoch 151/500\n",
      "7/7 [==============================] - 0s 8ms/step - loss: 8764.9053 - mae: 35.4489 - val_loss: 2041.8052 - val_mae: 22.3640\n",
      "Epoch 152/500\n",
      "7/7 [==============================] - 0s 8ms/step - loss: 6711.5688 - mae: 31.4273 - val_loss: 5637.7871 - val_mae: 47.2723\n",
      "Epoch 153/500\n",
      "7/7 [==============================] - 0s 7ms/step - loss: 4561.0132 - mae: 35.8018 - val_loss: 1973.4362 - val_mae: 23.1375\n",
      "Epoch 154/500\n",
      "7/7 [==============================] - 0s 8ms/step - loss: 2141.2170 - mae: 19.7707 - val_loss: 526.3834 - val_mae: 10.8659\n",
      "Epoch 155/500\n",
      "7/7 [==============================] - 0s 7ms/step - loss: 564.1925 - mae: 11.9595 - val_loss: 793.1651 - val_mae: 12.5519\n",
      "Epoch 156/500\n",
      "7/7 [==============================] - 0s 7ms/step - loss: 845.8192 - mae: 13.6748 - val_loss: 288.9612 - val_mae: 10.2619\n",
      "Epoch 157/500\n",
      "7/7 [==============================] - 0s 8ms/step - loss: 464.9676 - mae: 12.0495 - val_loss: 689.8654 - val_mae: 13.0012\n",
      "Epoch 158/500\n",
      "7/7 [==============================] - 0s 7ms/step - loss: 974.7336 - mae: 16.1090 - val_loss: 292.4556 - val_mae: 11.1109\n",
      "Epoch 159/500\n",
      "7/7 [==============================] - 0s 8ms/step - loss: 2475.9636 - mae: 16.3165 - val_loss: 4925.3271 - val_mae: 26.0903\n",
      "Epoch 160/500\n",
      "7/7 [==============================] - 0s 8ms/step - loss: 3067.7241 - mae: 23.7057 - val_loss: 1125.9904 - val_mae: 18.8451\n"
     ]
    }
   ],
   "source": [
    "history = ann.fit(X_train, y_train,\n",
    "                    validation_data = (X_val, y_val),\n",
    "                    callbacks=[es],\n",
    "                    epochs=500,\n",
    "                    batch_size=60,\n",
    "                    verbose=1)"
   ]
  },
  {
   "cell_type": "markdown",
   "metadata": {
    "colab_type": "text",
    "id": "0H0zKKNEBLD5"
   },
   "source": [
    "### Analyse learn history"
   ]
  },
  {
   "cell_type": "code",
   "execution_count": 17,
   "metadata": {},
   "outputs": [
    {
     "data": {
      "image/png": "[encoded data removed]",
      "text/plain": [
       "<Figure size 432x288 with 1 Axes>"
      ]
     },
     "metadata": {
      "needs_background": "light"
     },
     "output_type": "display_data"
    }
   ],
   "source": [
    "history_dict = history.history\n",
    "loss_values = history_dict['loss'] \n",
    "val_loss_values = history_dict['val_loss'] \n",
    "epochs = range(1, len(loss_values) + 1) # range of X (no. of epochs)\n",
    "plt.plot(epochs, loss_values, 'blue', label='Training loss')\n",
    "plt.plot(epochs, val_loss_values, 'orange', label='Testing loss')\n",
    "plt.title('Training and testing loss')\n",
    "plt.xlabel('Epochs')\n",
    "plt.ylabel('Loss (MSE)')\n",
    "plt.legend()\n",
    "plt.show()"
   ]
  },
  {
   "cell_type": "code",
   "execution_count": 18,
   "metadata": {},
   "outputs": [
    {
     "data": {
      "image/png": "[encoded data removed]",
      "text/plain": [
       "<Figure size 432x288 with 1 Axes>"
      ]
     },
     "metadata": {
      "needs_background": "light"
     },
     "output_type": "display_data"
    }
   ],
   "source": [
    "loss_values1 = history_dict['mae'] \n",
    "val_loss_values1 = history_dict['val_mae'] \n",
    "epochs = range(1, len(loss_values1) + 1) # range of X (no. of epochs)\n",
    "plt.plot(epochs, loss_values1, 'blue', label='Training MAE')\n",
    "plt.plot(epochs, val_loss_values1, 'orange', label='Testing MAE')\n",
    "plt.title('Training and testing MAE')\n",
    "plt.xlabel('Epochs')\n",
    "plt.ylabel('MAE')\n",
    "plt.legend()\n",
    "plt.show()"
   ]
  },
  {
   "cell_type": "code",
   "execution_count": 19,
   "metadata": {},
   "outputs": [
    {
     "name": "stdout",
     "output_type": "stream",
     "text": [
      "range(1, 161)\n"
     ]
    }
   ],
   "source": [
    "print (epochs)"
   ]
  },
  {
   "cell_type": "markdown",
   "metadata": {},
   "source": [
    "### Save the Model"
   ]
  },
  {
   "cell_type": "code",
   "execution_count": 20,
   "metadata": {},
   "outputs": [],
   "source": [
    "ann.save('ANN_pressure-4.h5')"
   ]
  },
  {
   "cell_type": "markdown",
   "metadata": {
    "tags": []
   },
   "source": [
    "## Part 6 - Evaluating predictions"
   ]
  },
  {
   "cell_type": "code",
   "execution_count": 2,
   "metadata": {},
   "outputs": [],
   "source": [
    "from keras.models import load_model\n",
    "ann = load_model('ANN_pressure-4.h5')"
   ]
  },
  {
   "cell_type": "markdown",
   "metadata": {
    "jp-MarkdownHeadingCollapsed": true,
    "tags": []
   },
   "source": [
    "### Scatterplot of actual vs. pred"
   ]
  },
  {
   "cell_type": "code",
   "execution_count": 12,
   "metadata": {},
   "outputs": [
    {
     "name": "stdout",
     "output_type": "stream",
     "text": [
      "12/12 [==============================] - 0s 1ms/step\n",
      "9/9 [==============================] - 0s 1ms/step\n"
     ]
    },
    {
     "data": {
      "image/png": "[encoded data removed]",
      "text/plain": [
       "<Figure size 432x288 with 2 Axes>"
      ]
     },
     "metadata": {
      "needs_background": "light"
     },
     "output_type": "display_data"
    }
   ],
   "source": [
    "# specify the dimensions \n",
    "fig, axes = plt.subplots(1,2) # 1 row, 2 columns\n",
    "\n",
    "# this makes the individual subplots\n",
    "# Training Results\n",
    "axes[0].scatter(x=y_train, y=ann.predict(X_train)) #first row, first entry (left top)\n",
    "axes[0].set_xlabel(\"Actual\", fontsize=10)\n",
    "axes[0].set_ylabel(\"Predicted\",  fontsize=10)\n",
    "axes[0].set_title(\"Training\")\n",
    "# add 45 deg line\n",
    "x = np.linspace(*axes[0].get_xlim())\n",
    "axes[0].plot(x, x, color='red')\n",
    "# Validation Results\n",
    "axes[1].scatter(x=y_test, y=ann.predict(X_test)) # first row, second entry (right top)\n",
    "axes[1].set_xlabel(\"Actual\", fontsize=10)\n",
    "axes[1].set_ylabel(\"Predicted\",  fontsize=10)\n",
    "axes[1].set_title(\"Validation\")\n",
    "# add 45 deg line\n",
    "x = np.linspace(*axes[1].get_xlim())\n",
    "axes[1].plot(x, x, color='red')\n",
    "\n",
    "# tight layout\n",
    "fig.tight_layout()\n",
    "\n",
    "# show the plot\n",
    "plt.show()"
   ]
  },
  {
   "cell_type": "code",
   "execution_count": 13,
   "metadata": {
    "colab": {
     "base_uri": "https://localhost:8080/",
     "height": 134
    },
    "colab_type": "code",
    "id": "IA0yApEmBG1X",
    "outputId": "cb981e1f-9204-4a2a-fece-9d66a6919189"
   },
   "outputs": [
    {
     "name": "stdout",
     "output_type": "stream",
     "text": [
      "9/9 [==============================] - 0s 2ms/step\n",
      "[[ 109.39  107.57]\n",
      " [4808.27 4858.02]\n",
      " [ 104.27  103.64]\n",
      " [ 122.74  122.37]\n",
      " [ 115.92  116.57]\n",
      " [ 120.42  118.46]\n",
      " [ 594.17  585.96]\n",
      " [ 115.44  109.67]\n",
      " [ 560.28  540.43]\n",
      " [ 140.35  137.93]\n",
      " [ 128.51  131.18]\n",
      " [ 107.18  107.67]\n",
      " [ 109.56  109.4 ]\n",
      " [ 122.66  119.95]\n",
      " [ 110.91  110.56]\n",
      " [ 113.5   112.44]\n",
      " [ 124.03  125.77]\n",
      " [1277.41 1292.14]\n",
      " [ 140.15  141.75]\n",
      " [ 129.31  127.41]\n",
      " [ 112.94  110.91]\n",
      " [8218.7  8197.73]\n",
      " [ 231.07  242.76]\n",
      " [ 132.42  129.35]\n",
      " [ 590.86  606.76]\n",
      " [ 186.9   185.89]\n",
      " [ 158.04  156.44]\n",
      " [ 129.08  130.92]\n",
      " [1381.   1372.28]\n",
      " [ 116.81  115.43]\n",
      " [ 115.19  110.38]\n",
      " [ 150.6   151.21]\n",
      " [ 170.36  179.5 ]\n",
      " [ 144.79  147.74]\n",
      " [ 118.1   119.62]\n",
      " [ 107.16  105.85]\n",
      " [ 109.08  104.65]\n",
      " [ 111.95  108.6 ]\n",
      " [ 108.21  108.46]\n",
      " [ 213.38  215.56]\n",
      " [ 135.41  132.49]\n",
      " [ 134.89  135.33]\n",
      " [ 170.74  168.48]\n",
      " [ 162.74  163.81]\n",
      " [ 116.49  114.6 ]\n",
      " [ 201.29  233.4 ]\n",
      " [ 116.44  113.34]\n",
      " [ 132.04  129.54]\n",
      " [ 221.29  230.67]\n",
      " [ 121.87  120.81]\n",
      " [3616.26 3608.73]\n",
      " [ 441.9   446.48]\n",
      " [ 106.52  106.44]\n",
      " [ 107.49  106.38]\n",
      " [7148.61 7064.37]\n",
      " [ 332.47  317.6 ]\n",
      " [ 123.29  124.11]\n",
      " [ 120.27  121.06]\n",
      " [ 114.64  113.5 ]\n",
      " [ 109.41  108.66]\n",
      " [4186.93 4227.82]\n",
      " [ 360.84  341.6 ]\n",
      " [ 136.21  138.1 ]\n",
      " [ 112.29  110.72]\n",
      " [ 112.44  110.  ]\n",
      " [ 118.68  118.64]\n",
      " [ 124.99  124.19]\n",
      " [ 144.47  142.3 ]\n",
      " [ 155.97  155.36]\n",
      " [ 260.77  265.6 ]\n",
      " [ 115.05  113.14]\n",
      " [ 121.24  122.7 ]\n",
      " [ 107.84  106.36]\n",
      " [ 132.22  131.08]\n",
      " [ 125.11  122.02]\n",
      " [ 115.15  112.77]\n",
      " [ 124.07  123.64]\n",
      " [ 110.37  109.49]\n",
      " [ 106.19  105.96]\n",
      " [ 121.07  122.45]\n",
      " [6293.26 6178.7 ]\n",
      " [ 103.94  103.39]\n",
      " [ 917.92  902.77]\n",
      " [ 391.61  371.88]\n",
      " [ 122.42  122.31]\n",
      " [ 129.3   126.47]\n",
      " [ 833.26  804.61]\n",
      " [ 105.25  104.66]\n",
      " [ 122.71  124.07]\n",
      " [ 222.5   216.19]\n",
      " [ 126.32  126.79]\n",
      " [ 173.36  171.59]\n",
      " [ 120.27  121.  ]\n",
      " [ 117.05  115.96]\n",
      " [ 152.61  158.18]\n",
      " [ 149.51  146.65]\n",
      " [ 231.04  241.43]\n",
      " [ 126.9   126.5 ]\n",
      " [ 130.54  130.07]\n",
      " [ 123.81  123.17]\n",
      " [ 110.29  109.75]\n",
      " [ 104.92  104.27]\n",
      " [ 115.79  114.76]\n",
      " [ 121.64  123.06]\n",
      " [ 151.02  151.57]\n",
      " [ 132.43  130.67]\n",
      " [ 180.87  178.47]\n",
      " [1651.4  1649.83]\n",
      " [ 152.46  150.05]\n",
      " [ 165.52  163.17]\n",
      " [ 124.11  123.55]\n",
      " [ 125.81  123.56]\n",
      " [ 177.78  175.91]\n",
      " [ 113.58  109.64]\n",
      " [ 137.49  134.39]\n",
      " [ 214.91  212.75]\n",
      " [ 129.58  130.65]\n",
      " [ 137.72  138.26]\n",
      " [ 109.31  107.21]\n",
      " [ 195.41  196.22]\n",
      " [2329.16 2351.13]\n",
      " [ 135.96  135.55]\n",
      " [ 133.77  135.68]\n",
      " [ 118.06  116.36]\n",
      " [ 136.9   140.6 ]\n",
      " [ 181.01  173.84]\n",
      " [ 119.1   118.49]\n",
      " [ 643.14  647.73]\n",
      " [ 114.28  115.2 ]\n",
      " [1436.32 1414.  ]\n",
      " [ 376.75  350.17]\n",
      " [ 172.9   171.16]\n",
      " [ 126.29  125.02]\n",
      " [1795.26 1784.86]\n",
      " [ 186.15  174.48]\n",
      " [ 123.71  124.27]\n",
      " [ 117.82  114.45]\n",
      " [ 115.29  116.22]\n",
      " [1085.04 1104.04]\n",
      " [ 115.73  113.97]\n",
      " [ 119.24  117.96]\n",
      " [ 139.73  139.79]\n",
      " [ 131.47  128.31]\n",
      " [ 114.    111.7 ]\n",
      " [ 768.63  802.04]\n",
      " [ 116.56  117.91]\n",
      " [ 649.74  663.22]\n",
      " [2093.77 2080.6 ]\n",
      " [6720.94 6857.65]\n",
      " [ 139.48  137.43]\n",
      " [ 176.41  173.98]\n",
      " [ 167.98  167.82]\n",
      " [1177.69 1196.18]\n",
      " [ 152.35  150.1 ]\n",
      " [ 579.71  591.52]\n",
      " [ 263.    263.48]\n",
      " [ 142.47  141.88]\n",
      " [ 128.45  128.08]\n",
      " [ 267.42  257.63]\n",
      " [ 112.55  113.1 ]\n",
      " [ 108.82  108.65]\n",
      " [ 152.99  152.24]\n",
      " [ 125.03  125.05]\n",
      " [ 481.01  553.89]\n",
      " [ 146.18  145.28]\n",
      " [ 117.62  117.25]\n",
      " [ 116.78  114.36]\n",
      " [ 146.74  143.94]\n",
      " [ 204.61  207.06]\n",
      " [ 157.12  155.48]\n",
      " [ 197.1   196.16]\n",
      " [ 135.52  136.02]\n",
      " [ 107.82  104.99]\n",
      " [ 153.99  144.37]\n",
      " [ 115.37  112.78]\n",
      " [ 140.14  144.44]\n",
      " [ 113.64  114.08]\n",
      " [ 220.66  224.18]\n",
      " [ 176.05  173.54]\n",
      " [ 118.09  118.13]\n",
      " [ 111.27  108.27]\n",
      " [ 286.98  292.65]\n",
      " [ 308.57  300.84]\n",
      " [ 267.24  274.19]\n",
      " [ 141.14  141.14]\n",
      " [ 116.31  115.49]\n",
      " [ 119.26  120.24]\n",
      " [ 119.78  119.65]\n",
      " [ 250.48  243.11]\n",
      " [ 704.33  698.22]\n",
      " [7576.41 7470.65]\n",
      " [ 119.18  117.44]\n",
      " [3508.05 3517.35]\n",
      " [ 120.42  119.01]\n",
      " [ 120.93  120.46]\n",
      " [ 119.84  120.15]\n",
      " [ 112.28  109.27]\n",
      " [ 204.78  207.89]\n",
      " [ 156.33  165.52]\n",
      " [1022.95 1038.81]\n",
      " [ 143.12  141.84]\n",
      " [ 504.4   520.39]\n",
      " [ 117.32  114.83]\n",
      " [ 144.63  148.55]\n",
      " [ 128.4   128.66]\n",
      " [ 109.78  109.52]\n",
      " [ 121.46  118.57]\n",
      " [ 115.36  111.18]\n",
      " [ 152.02  152.22]\n",
      " [ 129.2   129.69]\n",
      " [ 112.45  111.52]\n",
      " [ 148.09  149.03]\n",
      " [ 120.35  120.19]\n",
      " [ 115.28  115.13]\n",
      " [ 115.78  111.05]\n",
      " [ 643.3   642.17]\n",
      " [ 424.47  432.36]\n",
      " [ 106.85  107.01]\n",
      " [ 146.06  148.37]\n",
      " [ 132.57  133.57]\n",
      " [ 118.16  119.14]\n",
      " [3307.05 3327.9 ]\n",
      " [ 125.26  124.59]\n",
      " [ 119.32  119.43]\n",
      " [ 192.13  192.78]\n",
      " [ 112.39  111.99]\n",
      " [ 116.47  115.44]\n",
      " [2181.24 2168.5 ]\n",
      " [ 314.31  283.26]\n",
      " [ 208.27  204.04]\n",
      " [1902.59 1961.46]\n",
      " [ 121.91  122.57]\n",
      " [ 246.58  241.93]\n",
      " [ 127.15  125.04]\n",
      " [ 104.08  103.17]\n",
      " [2814.5  2758.27]\n",
      " [ 122.3   121.7 ]\n",
      " [ 116.93  116.22]\n",
      " [ 170.45  167.83]\n",
      " [ 117.07  118.14]\n",
      " [ 123.36  122.16]\n",
      " [ 216.28  219.04]\n",
      " [ 131.1   129.15]\n",
      " [ 470.14  473.46]\n",
      " [5865.59 5936.4 ]\n",
      " [ 128.29  127.1 ]\n",
      " [ 126.66  125.8 ]\n",
      " [ 143.57  144.28]\n",
      " [ 119.77  119.82]\n",
      " [ 150.37  148.89]\n",
      " [1500.9  1475.47]\n",
      " [ 144.83  142.84]\n",
      " [ 132.56  132.7 ]\n",
      " [ 110.69  104.34]\n",
      " [ 122.76  122.44]\n",
      " [ 116.11  112.26]\n",
      " [ 116.43  116.55]\n",
      " [ 115.82  115.25]\n",
      " [ 131.52  131.96]\n",
      " [ 135.21  136.66]\n",
      " [ 191.46  192.32]\n",
      " [ 149.72  148.9 ]\n",
      " [ 173.76  170.35]\n",
      " [ 137.84  137.71]\n",
      " [ 141.8   138.67]\n",
      " [ 113.    112.88]\n",
      " [ 276.16  262.81]\n",
      " [ 112.3   111.98]\n",
      " [ 122.71  118.97]\n",
      " [ 254.69  238.92]\n",
      " [ 117.57  118.21]\n",
      " [ 115.42  116.45]\n",
      " [ 119.96  117.63]]\n"
     ]
    }
   ],
   "source": [
    "y_pred = ann.predict(X_test)\n",
    "np.set_printoptions(precision=2)\n",
    "print(np.concatenate((y_pred.reshape(len(y_pred),1), y_test.reshape(len(y_test),1)),1))"
   ]
  },
  {
   "cell_type": "code",
   "execution_count": 23,
   "metadata": {},
   "outputs": [
    {
     "data": {
      "text/plain": [
       "Text(0, 0.5, 'Predicted data')"
      ]
     },
     "execution_count": 23,
     "metadata": {},
     "output_type": "execute_result"
    },
    {
     "data": {
      "image/png": "[encoded data removed]",
      "text/plain": [
       "<Figure size 432x288 with 1 Axes>"
      ]
     },
     "metadata": {
      "needs_background": "light"
     },
     "output_type": "display_data"
    }
   ],
   "source": [
    "import matplotlib.pyplot as plt\n",
    "plt.scatter(y_test, y_pred, color=\"blue\")\n",
    "plt.plot ([0,4000],[0,4000], color = \"red\")\n",
    "plt.axis ([0,4000,0,4000])\n",
    "plt.xlabel ('Actual data')\n",
    "plt.ylabel ('Predicted data')"
   ]
  },
  {
   "cell_type": "code",
   "execution_count": 14,
   "metadata": {},
   "outputs": [
    {
     "data": {
      "image/png": "[encoded data removed]",
      "text/plain": [
       "<Figure size 648x648 with 1 Axes>"
      ]
     },
     "metadata": {
      "needs_background": "light"
     },
     "output_type": "display_data"
    }
   ],
   "source": [
    "from sklearn.metrics import r2_score\n",
    "# Initialize layout\n",
    "fig1, ax1 = plt.subplots(figsize = (9, 9))\n",
    "\n",
    "\n",
    "# Add scatterplot\n",
    "ax1.scatter(y_test, y_pred, s=70, alpha=1, edgecolors=\"k\",c='mediumblue',zorder=5, label = 'Points')\n",
    "\n",
    "\n",
    "plt.ylabel('Predicted Peak Incident Pressure (kPa)',fontsize = 25)\n",
    "plt.xlabel('Actual Peak Incident Pressure (kPa)',fontsize = 25)\n",
    "plt.xticks(fontsize = 19)\n",
    "plt.yticks(fontsize = 19)\n",
    "\n",
    "\n",
    "x1 = np.linspace(0,4000)\n",
    "\n",
    "plt.plot(x1, x1, 'Red', label='45\\N{DEGREE SIGN} line',lw=2.5,alpha=1)\n",
    "plt.plot(x1, 1.1*x1, '--m', label='\\u00B110% Error',lw=2.5,alpha=0.7)\n",
    "plt.plot(x1, 0.9*x1,'m', linestyle='--',lw=2.5,alpha=0.7)\n",
    "plt.plot(x1, 1.2*x1, '-.g', label='\\u00B120% Error',lw=2.5,alpha=0.7)\n",
    "plt.plot(x1, 0.8*x1,'-.g',lw=2.5,alpha=0.7)\n",
    "\n",
    "plt.ylim(0, 4000)\n",
    "plt.xlim(0, 4000)\n",
    "plt.legend(loc='upper left',fontsize = 25)\n",
    "\n",
    "plt.grid()\n",
    "\n",
    "ax1.spines['left'].set_color('black')        # setting up Y-axis tick color to red\n",
    "ax1.spines['bottom'].set_color('black')         #setting up above X-axis tick color to red\n",
    "\n",
    "\n",
    "\n",
    "#ax1.annotate(\"$R^2$ = {:.3f}\".format(r2), (2500, 1000),fontsize = 25)  #Model is called here\n",
    "#ax1.annotate(\"Adj.$R^2$ = {:.3f}\".format(adj_r2), (2500, 750),fontsize = 25)\n",
    "\n",
    "#plt.savefig('plot1.png', dpi = 600, bbox_inches = 'tight')"
   ]
  },
  {
   "cell_type": "code",
   "execution_count": 15,
   "metadata": {},
   "outputs": [
    {
     "data": {
      "image/png": "[encoded data removed]",
      "text/plain": [
       "<Figure size 648x648 with 1 Axes>"
      ]
     },
     "metadata": {
      "needs_background": "light"
     },
     "output_type": "display_data"
    }
   ],
   "source": [
    "# Initialize layout\n",
    "fig2, bx = plt.subplots(figsize = (9, 9))\n",
    "\n",
    "\n",
    "\n",
    "# Add scatterplot\n",
    "bx.scatter(y_test, y_pred, s=70, alpha=1, edgecolors=\"k\",c='mediumblue',zorder=5, label = 'Points')\n",
    "\n",
    "\n",
    "\n",
    "\n",
    "plt.ylabel('Predicted Peak Incident Pressure (kPa)',fontsize = 25)\n",
    "plt.xlabel('Actual Peak Incident Pressure (kPa)',fontsize = 25)\n",
    "plt.xticks(fontsize = 19)\n",
    "plt.yticks(fontsize = 19)\n",
    "\n",
    "\n",
    "\n",
    "x1 = np.linspace(0,500)\n",
    "\n",
    "plt.plot(x1, x1, 'Red', label='45\\N{DEGREE SIGN} line',lw=2.5,alpha=1)\n",
    "plt.plot(x1, 1.1*x1, '--m', label='\\u00B110% Error',lw=2.5,alpha=0.7) #\\u00B1\n",
    "plt.plot(x1, 0.9*x1,'m', linestyle='--',lw=2.5,alpha=0.7)\n",
    "plt.plot(x1, 1.2*x1, '-.g', label='\\u00B120% Error',lw=2.5,alpha=0.7)\n",
    "plt.plot(x1, 0.8*x1,'-.g',lw=2.5,alpha=0.7)\n",
    "\n",
    "plt.ylim(0, 500)\n",
    "plt.xlim(0, 500)\n",
    "plt.legend(loc='upper left',fontsize = 25)\n",
    "\n",
    "plt.grid()\n",
    "\n",
    "bx.spines['left'].set_color('black')        # setting up Y-axis tick color to red\n",
    "bx.spines['bottom'].set_color('black')         #setting up above X-axis tick color to red\n",
    "\n",
    "\n",
    "#plt.savefig('plot1.png', dpi = 600, bbox_inches = 'tight')"
   ]
  },
  {
   "cell_type": "markdown",
   "metadata": {
    "tags": []
   },
   "source": [
    "### Performance Matrics"
   ]
  },
  {
   "cell_type": "code",
   "execution_count": 26,
   "metadata": {},
   "outputs": [
    {
     "name": "stdout",
     "output_type": "stream",
     "text": [
      "12/12 [==============================] - 0s 2ms/step\n",
      "4.460832599739752\n",
      "6.764391327686802\n"
     ]
    }
   ],
   "source": [
    "trainpreds = ann.predict(X_train)\n",
    "\n",
    "from sklearn.metrics import mean_absolute_error\n",
    "print(mean_absolute_error(y_train, trainpreds)) # train\n",
    "print(mean_absolute_error(y_test, y_pred)) # test"
   ]
  },
  {
   "cell_type": "code",
   "execution_count": 27,
   "metadata": {},
   "outputs": [
    {
     "name": "stdout",
     "output_type": "stream",
     "text": [
      "0.9997673084975852\n"
     ]
    }
   ],
   "source": [
    "from sklearn.metrics import r2_score\n",
    "r2 = r2_score(y_test, y_pred)\n",
    "print (r2)"
   ]
  },
  {
   "cell_type": "code",
   "execution_count": 28,
   "metadata": {},
   "outputs": [
    {
     "name": "stdout",
     "output_type": "stream",
     "text": [
      "0.9998219129697835\n"
     ]
    }
   ],
   "source": [
    "r2_train = r2_score(y_train, trainpreds)\n",
    "print (r2_train)"
   ]
  },
  {
   "cell_type": "code",
   "execution_count": 29,
   "metadata": {},
   "outputs": [
    {
     "name": "stdout",
     "output_type": "stream",
     "text": [
      "Within 10% margin 98.90%\n",
      "Within 20% margin 100.00%\n",
      "Out of 20% margin 0.00%\n"
     ]
    }
   ],
   "source": [
    "count1 = 0\n",
    "for i in range(len(y_pred)):\n",
    "    line1 = y_pred[i] - 0.9*y_test[i]\n",
    "    line2 = y_pred[i] - 1.1*y_test[i]\n",
    "    #print ('line 1 ', line1)\n",
    "    #print ('line 2 ', line2)\n",
    "    mask1 = (line1 > 0) & (line2 < 0)\n",
    "    #print (mask)\n",
    "    count1 = np.sum(mask1+count1)\n",
    "    #print (count)\n",
    "\n",
    "count2 = 0\n",
    "for j in range(len(y_pred)):\n",
    "    line3 = y_pred[j] - 0.8*y_test[j]\n",
    "    line4 = y_pred[j] - 1.2*y_test[j]\n",
    "    mask2 = (line3 > 0) & (line4 < 0)\n",
    "    count2 = np.sum(mask2+count2)\n",
    "\n",
    "\n",
    "count3 = 0    \n",
    "for k in range(len(y_pred)):\n",
    "    line5 = y_pred[k] - 0.8*y_test[k]\n",
    "    line6 = y_pred[k] - 1.2*y_test[k]\n",
    "    mask3 = (line5 < 0) or (line6 > 0)\n",
    "    count3 = np.sum(mask3+count3)\n",
    "   \n",
    "\n",
    "print ('Within 10% margin', format((count1/len (y_pred)),'.2%'))\n",
    "print ('Within 20% margin', format((count2/len (y_pred)),'.2%'))\n",
    "print ('Out of 20% margin', format((count3/len (y_pred)),'.2%'))"
   ]
  },
  {
   "cell_type": "code",
   "execution_count": 30,
   "metadata": {},
   "outputs": [
    {
     "name": "stdout",
     "output_type": "stream",
     "text": [
      "0.9997638354900865\n"
     ]
    }
   ],
   "source": [
    "adj_r2 = 1 - ((1 - r2) * (len(X_test) - 1) / (len(X_test) - len (X_test[0]) - 1))\n",
    "print (adj_r2)"
   ]
  },
  {
   "cell_type": "code",
   "execution_count": 31,
   "metadata": {},
   "outputs": [
    {
     "data": {
      "text/plain": [
       "17.66784241293277"
      ]
     },
     "execution_count": 31,
     "metadata": {},
     "output_type": "execute_result"
    }
   ],
   "source": [
    "import math\n",
    "from sklearn.metrics import mean_squared_error\n",
    "\n",
    "math.sqrt(mean_squared_error(y_test, y_pred))"
   ]
  },
  {
   "cell_type": "code",
   "execution_count": 33,
   "metadata": {},
   "outputs": [
    {
     "data": {
      "text/plain": [
       "6.764391327686802"
      ]
     },
     "execution_count": 33,
     "metadata": {},
     "output_type": "execute_result"
    }
   ],
   "source": [
    "from sklearn.metrics import mean_absolute_error\n",
    "\n",
    "mean_absolute_error(y_test, y_pred)"
   ]
  },
  {
   "cell_type": "markdown",
   "metadata": {},
   "source": [
    "## Part 7 - Contour plot visualization"
   ]
  },
  {
   "cell_type": "code",
   "execution_count": 34,
   "metadata": {},
   "outputs": [
    {
     "name": "stdout",
     "output_type": "stream",
     "text": [
      "[[ 3.5 19.5  0.   1. ]\n",
      " [10.   1.   1.   0. ]\n",
      " [ 0.5 17.5  0.   1. ]\n",
      " ...\n",
      " [ 9.5 14.5  0.   1. ]\n",
      " [13.5 17.5  0.   1. ]\n",
      " [21.5 19.5  0.   1. ]]\n"
     ]
    }
   ],
   "source": [
    "print (X_test)"
   ]
  },
  {
   "cell_type": "code",
   "execution_count": 35,
   "metadata": {},
   "outputs": [
    {
     "name": "stdout",
     "output_type": "stream",
     "text": [
      "number of dimensions : 2\n"
     ]
    }
   ],
   "source": [
    "print('number of dimensions :', X_test.ndim)"
   ]
  },
  {
   "cell_type": "markdown",
   "metadata": {},
   "source": [
    "### Define the extents of the 2D space and the mesh size"
   ]
  },
  {
   "cell_type": "code",
   "execution_count": 21,
   "metadata": {
    "tags": []
   },
   "outputs": [
    {
     "name": "stdout",
     "output_type": "stream",
     "text": [
      "(400, 400)\n",
      "[[11.3137085 ]\n",
      " [11.28538896]\n",
      " [11.25714103]\n",
      " ...\n",
      " [11.25714103]\n",
      " [11.28538896]\n",
      " [11.3137085 ]]\n",
      "(160000, 1)\n",
      "value 11.20086212938561\n"
     ]
    }
   ],
   "source": [
    "start, stop, n_values = -8, 8, 400\n",
    "\n",
    "x_vals = np.linspace(start, stop, n_values)\n",
    "y_vals = np.linspace(start, stop, n_values)\n",
    "X, Y = np.meshgrid(x_vals, y_vals)\n",
    "\n",
    "Z = np.sqrt(X**2 + Y**2)\n",
    "print (Z.shape)\n",
    "\n",
    "d = Z.reshape(-1)\n",
    "d = d.reshape(len (d), 1)\n",
    "print (d)\n",
    "print (d.shape)\n",
    "print (\"value\", d[4,0])"
   ]
  },
  {
   "cell_type": "code",
   "execution_count": 35,
   "metadata": {
    "tags": []
   },
   "outputs": [
    {
     "name": "stdout",
     "output_type": "stream",
     "text": [
      "[(2.8284271247461903,), (2.5337231668869733,), (2.2879178091082224,), (2.1081851067789197,), (2.0123078084749815,), (2.0123078084749815,), (2.1081851067789197,), (2.287917809108222,), (2.5337231668869733,), (2.8284271247461903,), (2.5337231668869733,), (2.199887763691481,), (1.9116278371205837,), (1.692394023525313,), (1.5713484026367723,), (1.5713484026367723,), (1.692394023525313,), (1.9116278371205835,), (2.199887763691481,), (2.5337231668869733,), (2.2879178091082224,), (1.9116278371205837,), (1.5713484026367723,), (1.2957670877434002,), (1.1331154474650633,), (1.1331154474650633,), (1.2957670877434,), (1.5713484026367721,), (1.9116278371205835,), (2.2879178091082224,), (2.1081851067789197,), (1.692394023525313,), (1.2957670877434002,), (0.9428090415820635,), (0.7027283689263066,), (0.7027283689263066,), (0.9428090415820634,), (1.2957670877433998,), (1.6923940235253128,), (2.1081851067789197,), (2.0123078084749815,), (1.5713484026367723,), (1.1331154474650633,), (0.7027283689263066,), (0.3142696805273546,), (0.3142696805273546,), (0.7027283689263064,), (1.1331154474650629,), (1.5713484026367721,), (2.0123078084749815,), (2.0123078084749815,), (1.5713484026367723,), (1.1331154474650633,), (0.7027283689263066,), (0.3142696805273546,), (0.3142696805273546,), (0.7027283689263064,), (1.1331154474650629,), (1.5713484026367721,), (2.0123078084749815,), (2.1081851067789197,), (1.692394023525313,), (1.2957670877434,), (0.9428090415820634,), (0.7027283689263064,), (0.7027283689263064,), (0.9428090415820631,), (1.2957670877433995,), (1.6923940235253125,), (2.1081851067789197,), (2.287917809108222,), (1.9116278371205835,), (1.5713484026367721,), (1.2957670877433998,), (1.1331154474650629,), (1.1331154474650629,), (1.2957670877433995,), (1.5713484026367717,), (1.9116278371205833,), (2.287917809108222,), (2.5337231668869733,), (2.199887763691481,), (1.9116278371205835,), (1.6923940235253128,), (1.5713484026367721,), (1.5713484026367721,), (1.6923940235253125,), (1.9116278371205833,), (2.1998877636914806,), (2.5337231668869733,), (2.8284271247461903,), (2.5337231668869733,), (2.2879178091082224,), (2.1081851067789197,), (2.0123078084749815,), (2.0123078084749815,), (2.1081851067789197,), (2.287917809108222,), (2.5337231668869733,), (2.8284271247461903,)]\n",
      "<class 'list'>\n",
      "[(1.5713484026367721,), (2.8284271247461903,), (0.9428090415820635,), (2.1081851067789197,), (1.9116278371205835,), (1.1331154474650629,), (1.5713484026367723,), (0.7027283689263064,), (1.9116278371205837,), (2.199887763691481,), (2.287917809108222,), (1.2957670877433995,), (1.6923940235253125,), (0.7027283689263066,), (1.1331154474650633,), (1.2957670877433998,), (0.3142696805273546,), (1.6923940235253128,), (2.5337231668869733,), (1.5713484026367717,), (2.2879178091082224,), (1.2957670877434,), (0.9428090415820631,), (1.692394023525313,), (2.0123078084749815,), (1.9116278371205833,), (1.2957670877434002,), (2.1998877636914806,), (0.9428090415820634,)]\n"
     ]
    }
   ],
   "source": [
    "#filter unique standoff distances\n",
    "d_list = [tuple(row) for row in d]\n",
    "print (d_list)\n",
    "print (type(d_list))\n",
    "standoff_dis_list = list(set(d_list))\n",
    "print (standoff_dis_list)"
   ]
  },
  {
   "cell_type": "markdown",
   "metadata": {},
   "source": [
    "### Defining charge mass and charge type"
   ]
  },
  {
   "cell_type": "code",
   "execution_count": 22,
   "metadata": {},
   "outputs": [
    {
     "name": "stdout",
     "output_type": "stream",
     "text": [
      "(160000, 1)\n",
      "[[17.7]\n",
      " [17.7]\n",
      " [17.7]\n",
      " ...\n",
      " [17.7]\n",
      " [17.7]\n",
      " [17.7]]\n",
      "(160000, 1)\n",
      "[[1]\n",
      " [1]\n",
      " [1]\n",
      " ...\n",
      " [1]\n",
      " [1]\n",
      " [1]]\n",
      "(160000, 1)\n",
      "[[0]\n",
      " [0]\n",
      " [0]\n",
      " ...\n",
      " [0]\n",
      " [0]\n",
      " [0]]\n"
     ]
    }
   ],
   "source": [
    "m = np.repeat(17.7, len(d)).reshape(len(d),1)\n",
    "\n",
    "print (m.shape)\n",
    "print (m)\n",
    "\n",
    "c = np.repeat(1, len(d)).reshape(len(d),1)\n",
    "print (c.shape)\n",
    "print (c)\n",
    "\n",
    "t = np.repeat(0, len(d)).reshape(len(d),1)\n",
    "print (t.shape)\n",
    "print (t)"
   ]
  },
  {
   "cell_type": "markdown",
   "metadata": {},
   "source": [
    "### Forming 2D array to predict peak incident pressure"
   ]
  },
  {
   "cell_type": "code",
   "execution_count": 23,
   "metadata": {},
   "outputs": [
    {
     "name": "stdout",
     "output_type": "stream",
     "text": [
      "[[17.7        11.3137085   1.          0.        ]\n",
      " [17.7        11.28538896  1.          0.        ]\n",
      " [17.7        11.25714103  1.          0.        ]\n",
      " ...\n",
      " [17.7        11.25714103  1.          0.        ]\n",
      " [17.7        11.28538896  1.          0.        ]\n",
      " [17.7        11.3137085   1.          0.        ]]\n"
     ]
    }
   ],
   "source": [
    "arr = np.concatenate ((m, d, c, t), axis = 1)\n",
    "print (arr)"
   ]
  },
  {
   "cell_type": "code",
   "execution_count": 24,
   "metadata": {},
   "outputs": [
    {
     "name": "stdout",
     "output_type": "stream",
     "text": [
      "5000/5000 [==============================] - 7s 1ms/step\n"
     ]
    }
   ],
   "source": [
    "Z_pred = ann.predict(arr)"
   ]
  },
  {
   "cell_type": "markdown",
   "metadata": {},
   "source": [
    "### Point predictions"
   ]
  },
  {
   "cell_type": "code",
   "execution_count": 25,
   "metadata": {},
   "outputs": [
    {
     "name": "stdout",
     "output_type": "stream",
     "text": [
      "[[134.7556  134.86137 134.96689 ... 134.96689 134.86137 134.7556 ]\n",
      " [134.86137 134.96742 135.07321 ... 135.07321 134.96742 134.86137]\n",
      " [134.96689 135.07321 135.17926 ... 135.17926 135.07321 134.96689]\n",
      " ...\n",
      " [134.96689 135.07321 135.17926 ... 135.17926 135.07321 134.96689]\n",
      " [134.86137 134.96742 135.07321 ... 135.07321 134.96742 134.86137]\n",
      " [134.7556  134.86137 134.96689 ... 134.96689 134.86137 134.7556 ]]\n"
     ]
    }
   ],
   "source": [
    "Z_pred = Z_pred.reshape(400, 400)\n",
    "print (Z_pred)"
   ]
  },
  {
   "cell_type": "markdown",
   "metadata": {},
   "source": [
    "### Peak incident pressure contours"
   ]
  },
  {
   "cell_type": "code",
   "execution_count": 26,
   "metadata": {},
   "outputs": [],
   "source": [
    "cdict = {'red': ((0.0, 0.0, 0.0),\n",
    "                 (0.25, 0.2, 0.2),\n",
    "                 (0.5, 0.0, 0.0),\n",
    "                 (0.75, 1.0, 1.0),\n",
    "                 (1.0, 1.0, 1.0)),\n",
    "        'green':((0.0, 0.0, 0.0),\n",
    "                 (0.25, 1.0, 1.0),\n",
    "                 (0.5, 1.0, 1.0),\n",
    "                 (0.75, 1.0, 1.0),\n",
    "                 (1.0, 0.0, 0.0)),\n",
    "        'blue': ((0.0, 1.0, 1.0),\n",
    "                 (0.25, 1.0, 1.0),\n",
    "                 (0.5, 0.0, 0.0),\n",
    "                 (0.75, 0.0, 0.0),\n",
    "                 (1.0, 0.0, 0.0))}"
   ]
  },
  {
   "cell_type": "code",
   "execution_count": 27,
   "metadata": {},
   "outputs": [],
   "source": [
    "my_cmap = matplotlib.colors.LinearSegmentedColormap('my_colormap',cdict,256)"
   ]
  },
  {
   "cell_type": "code",
   "execution_count": 29,
   "metadata": {},
   "outputs": [
    {
     "data": {
      "image/png": "[encoded data removed]",
      "text/plain": [
       "<Figure size 432x360 with 2 Axes>"
      ]
     },
     "metadata": {
      "needs_background": "light"
     },
     "output_type": "display_data"
    }
   ],
   "source": [
    "fig = plt.figure(figsize=(6,5))\n",
    "left, bottom, width, height = 0.1, 0.1, 0.8, 0.8\n",
    "ax = fig.add_axes([left, bottom, width, height])\n",
    "levels = np.linspace(100, 12500, 101)\n",
    "cp = plt.contourf(X, Y, Z_pred, levels = levels, cmap = my_cmap)\n",
    "plt.colorbar(cp)\n",
    "\n",
    "ax.set_title('Peak Incident Pressure Contour Plot')\n",
    "ax.set_xlabel('x (m)')\n",
    "ax.set_ylabel('y (m)')\n",
    "plt.show()"
   ]
  },
  {
   "cell_type": "markdown",
   "metadata": {},
   "source": [
    "# 6 - Heatmap Bar"
   ]
  },
  {
   "cell_type": "markdown",
   "metadata": {},
   "source": [
    "## Import libraries"
   ]
  },
  {
   "cell_type": "code",
   "execution_count": 1,
   "metadata": {},
   "outputs": [],
   "source": [
    "import numpy as np\n",
    "import pandas as pd\n",
    "import matplotlib.pyplot as plt\n",
    "import matplotlib\n",
    "from keras.models import load_model"
   ]
  },
  {
   "cell_type": "markdown",
   "metadata": {},
   "source": [
    "## Formulate dataset"
   ]
  },
  {
   "cell_type": "code",
   "execution_count": 2,
   "metadata": {},
   "outputs": [
    {
     "name": "stdout",
     "output_type": "stream",
     "text": [
      "(176,)\n",
      "(176, 1)\n"
     ]
    }
   ],
   "source": [
    "# Read the dataset\n",
    "dataset = pd.read_excel('Peak_Incident_Pressure_17.7kg.xlsx')\n",
    "X = dataset['Standoff_distance']\n",
    "sd = np.array(X)\n",
    "print (sd.shape)\n",
    "sd = sd.reshape(-1)\n",
    "sd = sd.reshape(len (sd), 1)\n",
    "print (sd.shape)"
   ]
  },
  {
   "cell_type": "code",
   "execution_count": 3,
   "metadata": {},
   "outputs": [
    {
     "name": "stdout",
     "output_type": "stream",
     "text": [
      "(176, 1)\n",
      "(176, 1)\n",
      "(176, 1)\n"
     ]
    }
   ],
   "source": [
    "m = np.repeat(17.7, len(sd)).reshape(len(sd),1)\n",
    "\n",
    "print (m.shape)\n",
    "#print (m)\n",
    "\n",
    "c = np.repeat(1, len(sd)).reshape(len(sd),1)\n",
    "print (c.shape)\n",
    "#print (c)\n",
    "\n",
    "t = np.repeat(0, len(sd)).reshape(len(sd),1)\n",
    "print (t.shape)\n",
    "#print (t)"
   ]
  },
  {
   "cell_type": "code",
   "execution_count": 4,
   "metadata": {},
   "outputs": [],
   "source": [
    "arr = np.concatenate ((m, sd, c, t), axis = 1)\n",
    "#print (arr)"
   ]
  },
  {
   "cell_type": "markdown",
   "metadata": {},
   "source": [
    "## Load the model from disk"
   ]
  },
  {
   "cell_type": "code",
   "execution_count": 5,
   "metadata": {},
   "outputs": [],
   "source": [
    "ann = load_model('ANN_pressure-4.h5')"
   ]
  },
  {
   "cell_type": "markdown",
   "metadata": {},
   "source": [
    "## Make predictions"
   ]
  },
  {
   "cell_type": "code",
   "execution_count": 6,
   "metadata": {},
   "outputs": [
    {
     "name": "stdout",
     "output_type": "stream",
     "text": [
      "6/6 [==============================] - 0s 2ms/step\n",
      "[[6656.785  ]\n",
      " [6419.2896 ]\n",
      " [6181.7935 ]\n",
      " [5944.2983 ]\n",
      " [5706.8022 ]\n",
      " [5469.306  ]\n",
      " [5231.8105 ]\n",
      " [4994.315  ]\n",
      " [4756.819  ]\n",
      " [4519.3237 ]\n",
      " [4281.8276 ]\n",
      " [4044.3323 ]\n",
      " [3806.837  ]\n",
      " [3571.0874 ]\n",
      " [3336.843  ]\n",
      " [3103.8513 ]\n",
      " [2877.722  ]\n",
      " [2663.3826 ]\n",
      " [2485.4192 ]\n",
      " [2355.1863 ]\n",
      " [2261.5774 ]\n",
      " [2178.8723 ]\n",
      " [2102.691  ]\n",
      " [2028.7478 ]\n",
      " [1954.8043 ]\n",
      " [1881.7142 ]\n",
      " [1809.1104 ]\n",
      " [1736.5065 ]\n",
      " [1665.4089 ]\n",
      " [1600.3986 ]\n",
      " [1535.3883 ]\n",
      " [1472.3933 ]\n",
      " [1413.3204 ]\n",
      " [1360.1249 ]\n",
      " [1311.227  ]\n",
      " [1263.0402 ]\n",
      " [1217.9537 ]\n",
      " [1176.8544 ]\n",
      " [1137.6373 ]\n",
      " [1098.7378 ]\n",
      " [1061.2483 ]\n",
      " [1023.7585 ]\n",
      " [ 988.6164 ]\n",
      " [ 955.66376]\n",
      " [ 923.9244 ]\n",
      " [ 892.439  ]\n",
      " [ 862.59924]\n",
      " [ 835.52844]\n",
      " [ 809.19006]\n",
      " [ 782.9832 ]\n",
      " [ 757.6023 ]\n",
      " [ 732.415  ]\n",
      " [ 709.2158 ]\n",
      " [ 688.1352 ]\n",
      " [ 668.3605 ]\n",
      " [ 649.99493]\n",
      " [ 632.88617]\n",
      " [ 616.7305 ]\n",
      " [ 602.315  ]\n",
      " [ 588.0472 ]\n",
      " [ 574.186  ]\n",
      " [ 561.76404]\n",
      " [ 550.16736]\n",
      " [ 538.904  ]\n",
      " [ 528.18   ]\n",
      " [ 517.456  ]\n",
      " [ 506.7319 ]\n",
      " [ 496.00793]\n",
      " [ 485.28397]\n",
      " [ 474.97003]\n",
      " [ 464.86472]\n",
      " [ 454.8608 ]\n",
      " [ 445.3389 ]\n",
      " [ 436.35666]\n",
      " [ 427.88885]\n",
      " [ 419.659  ]\n",
      " [ 411.4769 ]\n",
      " [ 403.35245]\n",
      " [ 395.64557]\n",
      " [ 387.93866]\n",
      " [ 380.52695]\n",
      " [ 373.73355]\n",
      " [ 367.1213 ]\n",
      " [ 360.92984]\n",
      " [ 355.14276]\n",
      " [ 349.79376]\n",
      " [ 344.92606]\n",
      " [ 340.09943]\n",
      " [ 335.2728 ]\n",
      " [ 330.44617]\n",
      " [ 325.61954]\n",
      " [ 320.8638 ]\n",
      " [ 316.20972]\n",
      " [ 311.68417]\n",
      " [ 307.39804]\n",
      " [ 303.1119 ]\n",
      " [ 298.97903]\n",
      " [ 295.23764]\n",
      " [ 291.49628]\n",
      " [ 287.7549 ]\n",
      " [ 284.01355]\n",
      " [ 280.2722 ]\n",
      " [ 276.59348]\n",
      " [ 273.00632]\n",
      " [ 269.41916]\n",
      " [ 266.0244 ]\n",
      " [ 262.73288]\n",
      " [ 259.48923]\n",
      " [ 256.51147]\n",
      " [ 254.00041]\n",
      " [ 251.49031]\n",
      " [ 248.98021]\n",
      " [ 246.47012]\n",
      " [ 243.96002]\n",
      " [ 241.44994]\n",
      " [ 238.93982]\n",
      " [ 236.7336 ]\n",
      " [ 234.55171]\n",
      " [ 232.45016]\n",
      " [ 230.34863]\n",
      " [ 228.24709]\n",
      " [ 226.40889]\n",
      " [ 224.61867]\n",
      " [ 222.82841]\n",
      " [ 221.08476]\n",
      " [ 219.46309]\n",
      " [ 217.9179 ]\n",
      " [ 216.45213]\n",
      " [ 214.98637]\n",
      " [ 213.52057]\n",
      " [ 212.05481]\n",
      " [ 210.58902]\n",
      " [ 209.35457]\n",
      " [ 208.1861 ]\n",
      " [ 207.01761]\n",
      " [ 205.84914]\n",
      " [ 204.68062]\n",
      " [ 203.56517]\n",
      " [ 202.50496]\n",
      " [ 201.44476]\n",
      " [ 200.38458]\n",
      " [ 199.34424]\n",
      " [ 198.45943]\n",
      " [ 197.57463]\n",
      " [ 196.68982]\n",
      " [ 195.80501]\n",
      " [ 194.92021]\n",
      " [ 194.03539]\n",
      " [ 193.15057]\n",
      " [ 192.2658 ]\n",
      " [ 191.38097]\n",
      " [ 190.49617]\n",
      " [ 189.61136]\n",
      " [ 188.72655]\n",
      " [ 187.84174]\n",
      " [ 186.95692]\n",
      " [ 186.07211]\n",
      " [ 185.1873 ]\n",
      " [ 184.30249]\n",
      " [ 183.4177 ]\n",
      " [ 182.53288]\n",
      " [ 181.64809]\n",
      " [ 180.76324]\n",
      " [ 179.87845]\n",
      " [ 179.06915]\n",
      " [ 178.30116]\n",
      " [ 177.53317]\n",
      " [ 176.76515]\n",
      " [ 175.99716]\n",
      " [ 175.22914]\n",
      " [ 174.46114]\n",
      " [ 173.69315]\n",
      " [ 172.92513]\n",
      " [ 172.15712]\n",
      " [ 171.38911]\n",
      " [ 170.62111]]\n",
      "Stored 'y2' (ndarray)\n"
     ]
    }
   ],
   "source": [
    "y2= ann.predict(arr)\n",
    "print (y2)\n",
    "%store y2"
   ]
  },
  {
   "cell_type": "markdown",
   "metadata": {},
   "source": [
    "## Visualise"
   ]
  },
  {
   "cell_type": "code",
   "execution_count": 8,
   "metadata": {},
   "outputs": [],
   "source": [
    "cdict = {'red': ((0.0, 0.0, 0.0),\n",
    "                 (0.25, 0.2, 0.2),\n",
    "                 (0.5, 0.0, 0.0),\n",
    "                 (0.75, 1.0, 1.0),\n",
    "                 (1.0, 1.0, 1.0)),\n",
    "        'green':((0.0, 0.0, 0.0),\n",
    "                 (0.25, 1.0, 1.0),\n",
    "                 (0.5, 1.0, 1.0),\n",
    "                 (0.75, 1.0, 1.0),\n",
    "                 (1.0, 0.0, 0.0)),\n",
    "        'blue': ((0.0, 1.0, 1.0),\n",
    "                 (0.25, 1.0, 1.0),\n",
    "                 (0.5, 0.0, 0.0),\n",
    "                 (0.75, 0.0, 0.0),\n",
    "                 (1.0, 0.0, 0.0))}"
   ]
  },
  {
   "cell_type": "code",
   "execution_count": 9,
   "metadata": {},
   "outputs": [],
   "source": [
    "my_cmap = matplotlib.colors.LinearSegmentedColormap('my_colormap',cdict,256)"
   ]
  },
  {
   "cell_type": "code",
   "execution_count": 11,
   "metadata": {
    "tags": []
   },
   "outputs": [
    {
     "data": {
      "image/png": "[encoded data removed]",
      "text/plain": [
       "<Figure size 720x72 with 2 Axes>"
      ]
     },
     "metadata": {
      "needs_background": "light"
     },
     "output_type": "display_data"
    }
   ],
   "source": [
    "# Create the heatmap strip\n",
    "plt.figure(figsize=(10, 1))\n",
    "heatmap = plt.imshow(y2.reshape(1, -1), cmap=my_cmap, aspect='auto',\n",
    "                     extent=[X.min(), X.max(), y2.min(), y2.max()], vmin = 2000, vmax = 8100)\n",
    "plt.yticks([])\n",
    "\n",
    "plt.colorbar(heatmap, label='Peak Incident Pressure (kPa)', location = 'top', pad=0.3)\n",
    "\n",
    "plt.xlabel('Standoff Distance (m)')\n",
    "plt.show()"
   ]
  },
  {
   "cell_type": "code",
   "execution_count": 45,
   "metadata": {},
   "outputs": [
    {
     "data": {
      "image/png": "[encoded data removed]",
      "text/plain": [
       "<Figure size 720x72 with 2 Axes>"
      ]
     },
     "metadata": {
      "needs_background": "light"
     },
     "output_type": "display_data"
    }
   ],
   "source": [
    "# Create the heatmap strip\n",
    "plt.figure(figsize=(10, 1))\n",
    "heatmap = plt.imshow(y.reshape(1, -1), cmap=my_cmap, aspect='auto',\n",
    "                     extent=[X.min(), X.max(), y.min(), y.max()])\n",
    "plt.yticks([])\n",
    "\n",
    "plt.colorbar(heatmap, label='Peak Incident Pressure', location = 'top', pad=0.3)\n",
    "\n",
    "plt.xlabel('Standoff Distance')\n",
    "plt.show()"
   ]
  },
  {
   "cell_type": "code",
   "execution_count": 8,
   "metadata": {},
   "outputs": [
    {
     "ename": "NameError",
     "evalue": "name 'y1' is not defined",
     "output_type": "error",
     "traceback": [
      "\u001b[1;31m---------------------------------------------------------------------------\u001b[0m",
      "\u001b[1;31mNameError\u001b[0m                                 Traceback (most recent call last)",
      "\u001b[1;32m~\\AppData\\Local\\Temp\\ipykernel_13628\\4073330541.py\u001b[0m in \u001b[0;36m<module>\u001b[1;34m\u001b[0m\n\u001b[0;32m      1\u001b[0m \u001b[0mplt\u001b[0m\u001b[1;33m.\u001b[0m\u001b[0mfigure\u001b[0m\u001b[1;33m(\u001b[0m\u001b[0mfigsize\u001b[0m\u001b[1;33m=\u001b[0m\u001b[1;33m(\u001b[0m\u001b[1;36m10\u001b[0m\u001b[1;33m,\u001b[0m \u001b[1;36m6\u001b[0m\u001b[1;33m)\u001b[0m\u001b[1;33m)\u001b[0m\u001b[1;33m\u001b[0m\u001b[1;33m\u001b[0m\u001b[0m\n\u001b[1;32m----> 2\u001b[1;33m \u001b[0mplt\u001b[0m\u001b[1;33m.\u001b[0m\u001b[0mplot\u001b[0m\u001b[1;33m(\u001b[0m\u001b[0mX\u001b[0m\u001b[1;33m,\u001b[0m \u001b[0my1\u001b[0m\u001b[1;33m)\u001b[0m\u001b[1;33m\u001b[0m\u001b[1;33m\u001b[0m\u001b[0m\n\u001b[0m\u001b[0;32m      3\u001b[0m \u001b[0mplt\u001b[0m\u001b[1;33m.\u001b[0m\u001b[0mplot\u001b[0m\u001b[1;33m(\u001b[0m\u001b[0mX\u001b[0m\u001b[1;33m,\u001b[0m \u001b[0my2\u001b[0m\u001b[1;33m)\u001b[0m\u001b[1;33m\u001b[0m\u001b[1;33m\u001b[0m\u001b[0m\n\u001b[0;32m      4\u001b[0m \u001b[0mplt\u001b[0m\u001b[1;33m.\u001b[0m\u001b[0mxlabel\u001b[0m\u001b[1;33m(\u001b[0m\u001b[1;34m'Standoff Distance (m)'\u001b[0m\u001b[1;33m)\u001b[0m\u001b[1;33m\u001b[0m\u001b[1;33m\u001b[0m\u001b[0m\n\u001b[0;32m      5\u001b[0m \u001b[0mplt\u001b[0m\u001b[1;33m.\u001b[0m\u001b[0mylabel\u001b[0m\u001b[1;33m(\u001b[0m\u001b[1;34m'Peak Incident Pressure (kPa)'\u001b[0m\u001b[1;33m)\u001b[0m\u001b[1;33m\u001b[0m\u001b[1;33m\u001b[0m\u001b[0m\n",
      "\u001b[1;31mNameError\u001b[0m: name 'y1' is not defined"
     ]
    },
    {
     "data": {
      "text/plain": [
       "<Figure size 720x432 with 0 Axes>"
      ]
     },
     "metadata": {},
     "output_type": "display_data"
    }
   ],
   "source": [
    "plt.figure(figsize=(10, 6))\n",
    "plt.plot(X, y2)\n",
    "plt.xlabel('Standoff Distance (m)')\n",
    "plt.ylabel('Peak Incident Pressure (kPa)')\n",
    "plt.show()"
   ]
  }
 ],
 "metadata": {
  "colab": {
   "collapsed_sections": [],
   "name": "Artificial Neural Network",
   "provenance": [],
   "toc_visible": true
  },
  "kernelspec": {
   "display_name": "Python 3 (ipykernel)",
   "language": "python",
   "name": "python3"
  },
  "language_info": {
   "codemirror_mode": {
    "name": "ipython",
    "version": 3
   },
   "file_extension": ".py",
   "mimetype": "text/x-python",
   "name": "python",
   "nbconvert_exporter": "python",
   "pygments_lexer": "ipython3",
   "version": "3.9.7"
  }
 },
 "nbformat": 4,
 "nbformat_minor": 4
}
