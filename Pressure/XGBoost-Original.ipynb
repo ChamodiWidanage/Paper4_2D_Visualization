{
 "cells": [
  {
   "cell_type": "markdown",
   "id": "ae3df567-0450-438b-a682-4e96ea5fa392",
   "metadata": {},
   "source": [
    "# 1 - Preprocessing"
   ]
  },
  {
   "cell_type": "code",
   "execution_count": 1,
   "id": "678a507e-a5a2-4722-81ca-ca07a8389c54",
   "metadata": {},
   "outputs": [],
   "source": [
    "# Importing the libraries\n",
    "import numpy as np\n",
    "import matplotlib.pyplot as plt\n",
    "import pandas as pd\n",
    "import pickle\n",
    "from xgboost import XGBRegressor\n",
    "\n",
    "# Importing the dataset\n",
    "dataset = pd.read_excel('Pressure.xlsx')\n",
    "X = dataset.iloc[:, :-1].values\n",
    "y = dataset.iloc[:, -1].values\n",
    "\n",
    "# Encoding categorical data\n",
    "# Encoding the Independent Variable\n",
    "from sklearn.compose import ColumnTransformer\n",
    "from sklearn.preprocessing import OneHotEncoder\n",
    "ct = ColumnTransformer(transformers=[('encoder', OneHotEncoder(), [0])],\n",
    "                       remainder='passthrough')\n",
    "X = np.array(ct.fit_transform(X))\n",
    "#print(X)\n",
    "#print (y)\n",
    "# Splitting the dataset into the Training set and Test set\n",
    "from sklearn.model_selection import train_test_split\n",
    "X_train, X_test, y_train, y_test = train_test_split(X, y, test_size = 0.2, random_state = 100)"
   ]
  },
  {
   "cell_type": "markdown",
   "id": "3996dd7b-caa2-4549-a50a-93b5dc43d8b6",
   "metadata": {
    "jp-MarkdownHeadingCollapsed": true,
    "tags": []
   },
   "source": [
    "# 2 - Training"
   ]
  },
  {
   "cell_type": "markdown",
   "id": "94438a0a-35c0-4893-acee-760c36567b9d",
   "metadata": {},
   "source": [
    "## Calling the XGB Regressor"
   ]
  },
  {
   "cell_type": "code",
   "execution_count": 2,
   "id": "30b91529-abda-46a5-b56b-4af5b68f8783",
   "metadata": {},
   "outputs": [],
   "source": [
    "regressor = XGBRegressor(random_state = 67)"
   ]
  },
  {
   "cell_type": "markdown",
   "id": "87e95946-2979-47f7-8378-3d3bec6b929a",
   "metadata": {},
   "source": [
    "## Applying Grid Search to find the best model and the best parameters"
   ]
  },
  {
   "cell_type": "code",
   "execution_count": 6,
   "id": "58054665-2dc3-4a7c-ad4b-f8a10d5293ba",
   "metadata": {},
   "outputs": [
    {
     "name": "stdout",
     "output_type": "stream",
     "text": [
      "Best Accuracy: 0.9877287305919304\n",
      "Best Parameters: {'gamma': 1, 'learning_rate': 0.1, 'max_depth': 3, 'n_estimators': 1100}\n"
     ]
    }
   ],
   "source": [
    "from sklearn.model_selection import GridSearchCV\n",
    "parameters = [{'n_estimators': [600, 700, 800, 900, 1000, 1100, 1200],\n",
    "               'max_depth': [2, 3, 4, 5, 6, 7, 8, 9, 10],\n",
    "               'gamma': [10, 5, 1, 0.1, 0.01, 0.001], \n",
    "               'learning_rate' : [0.001, 0.01, 0.1, 0.2, 0.5, 0.9] }]\n",
    "grid_search = GridSearchCV(estimator = regressor,\n",
    "                           param_grid = parameters,\n",
    "                           scoring = 'r2',\n",
    "                           cv = 5,\n",
    "                           n_jobs = -1)\n",
    "grid_search.fit(X_train, y_train)\n",
    "best_accuracy = grid_search.best_score_\n",
    "best_parameters = grid_search.best_params_\n",
    "print(\"Best Accuracy:\", best_accuracy)\n",
    "print(\"Best Parameters:\", best_parameters)"
   ]
  },
  {
   "cell_type": "markdown",
   "id": "2714c2c8-06ab-47d8-b2f3-bec7e536e762",
   "metadata": {},
   "source": [
    "## Training the XGB Regression model on the Training set"
   ]
  },
  {
   "cell_type": "code",
   "execution_count": 3,
   "id": "c5e94d07-e7c7-4497-bc9a-dd7978f05a10",
   "metadata": {},
   "outputs": [
    {
     "data": {
      "text/html": [
       "<style>#sk-container-id-1 {color: black;background-color: white;}#sk-container-id-1 pre{padding: 0;}#sk-container-id-1 div.sk-toggleable {background-color: white;}#sk-container-id-1 label.sk-toggleable__label {cursor: pointer;display: block;width: 100%;margin-bottom: 0;padding: 0.3em;box-sizing: border-box;text-align: center;}#sk-container-id-1 label.sk-toggleable__label-arrow:before {content: \"▸\";float: left;margin-right: 0.25em;color: #696969;}#sk-container-id-1 label.sk-toggleable__label-arrow:hover:before {color: black;}#sk-container-id-1 div.sk-estimator:hover label.sk-toggleable__label-arrow:before {color: black;}#sk-container-id-1 div.sk-toggleable__content {max-height: 0;max-width: 0;overflow: hidden;text-align: left;background-color: #f0f8ff;}#sk-container-id-1 div.sk-toggleable__content pre {margin: 0.2em;color: black;border-radius: 0.25em;background-color: #f0f8ff;}#sk-container-id-1 input.sk-toggleable__control:checked~div.sk-toggleable__content {max-height: 200px;max-width: 100%;overflow: auto;}#sk-container-id-1 input.sk-toggleable__control:checked~label.sk-toggleable__label-arrow:before {content: \"▾\";}#sk-container-id-1 div.sk-estimator input.sk-toggleable__control:checked~label.sk-toggleable__label {background-color: #d4ebff;}#sk-container-id-1 div.sk-label input.sk-toggleable__control:checked~label.sk-toggleable__label {background-color: #d4ebff;}#sk-container-id-1 input.sk-hidden--visually {border: 0;clip: rect(1px 1px 1px 1px);clip: rect(1px, 1px, 1px, 1px);height: 1px;margin: -1px;overflow: hidden;padding: 0;position: absolute;width: 1px;}#sk-container-id-1 div.sk-estimator {font-family: monospace;background-color: #f0f8ff;border: 1px dotted black;border-radius: 0.25em;box-sizing: border-box;margin-bottom: 0.5em;}#sk-container-id-1 div.sk-estimator:hover {background-color: #d4ebff;}#sk-container-id-1 div.sk-parallel-item::after {content: \"\";width: 100%;border-bottom: 1px solid gray;flex-grow: 1;}#sk-container-id-1 div.sk-label:hover label.sk-toggleable__label {background-color: #d4ebff;}#sk-container-id-1 div.sk-serial::before {content: \"\";position: absolute;border-left: 1px solid gray;box-sizing: border-box;top: 0;bottom: 0;left: 50%;z-index: 0;}#sk-container-id-1 div.sk-serial {display: flex;flex-direction: column;align-items: center;background-color: white;padding-right: 0.2em;padding-left: 0.2em;position: relative;}#sk-container-id-1 div.sk-item {position: relative;z-index: 1;}#sk-container-id-1 div.sk-parallel {display: flex;align-items: stretch;justify-content: center;background-color: white;position: relative;}#sk-container-id-1 div.sk-item::before, #sk-container-id-1 div.sk-parallel-item::before {content: \"\";position: absolute;border-left: 1px solid gray;box-sizing: border-box;top: 0;bottom: 0;left: 50%;z-index: -1;}#sk-container-id-1 div.sk-parallel-item {display: flex;flex-direction: column;z-index: 1;position: relative;background-color: white;}#sk-container-id-1 div.sk-parallel-item:first-child::after {align-self: flex-end;width: 50%;}#sk-container-id-1 div.sk-parallel-item:last-child::after {align-self: flex-start;width: 50%;}#sk-container-id-1 div.sk-parallel-item:only-child::after {width: 0;}#sk-container-id-1 div.sk-dashed-wrapped {border: 1px dashed gray;margin: 0 0.4em 0.5em 0.4em;box-sizing: border-box;padding-bottom: 0.4em;background-color: white;}#sk-container-id-1 div.sk-label label {font-family: monospace;font-weight: bold;display: inline-block;line-height: 1.2em;}#sk-container-id-1 div.sk-label-container {text-align: center;}#sk-container-id-1 div.sk-container {/* jupyter's `normalize.less` sets `[hidden] { display: none; }` but bootstrap.min.css set `[hidden] { display: none !important; }` so we also need the `!important` here to be able to override the default hidden behavior on the sphinx rendered scikit-learn.org. See: https://github.com/scikit-learn/scikit-learn/issues/21755 */display: inline-block !important;position: relative;}#sk-container-id-1 div.sk-text-repr-fallback {display: none;}</style><div id=\"sk-container-id-1\" class=\"sk-top-container\"><div class=\"sk-text-repr-fallback\"><pre>XGBRegressor(base_score=0.5, booster=&#x27;gbtree&#x27;, callbacks=None,\n",
       "             colsample_bylevel=1, colsample_bynode=1, colsample_bytree=1,\n",
       "             early_stopping_rounds=None, enable_categorical=False,\n",
       "             eval_metric=None, gamma=1, gpu_id=-1, grow_policy=&#x27;depthwise&#x27;,\n",
       "             importance_type=None, interaction_constraints=&#x27;&#x27;,\n",
       "             learning_rate=0.1, max_bin=256, max_cat_to_onehot=4,\n",
       "             max_delta_step=0, max_depth=3, max_leaves=0, min_child_weight=1,\n",
       "             missing=nan, monotone_constraints=&#x27;()&#x27;, n_estimators=1100,\n",
       "             n_jobs=0, num_parallel_tree=1, predictor=&#x27;auto&#x27;, random_state=67,\n",
       "             reg_alpha=0, reg_lambda=1, ...)</pre><b>In a Jupyter environment, please rerun this cell to show the HTML representation or trust the notebook. <br />On GitHub, the HTML representation is unable to render, please try loading this page with nbviewer.org.</b></div><div class=\"sk-container\" hidden><div class=\"sk-item\"><div class=\"sk-estimator sk-toggleable\"><input class=\"sk-toggleable__control sk-hidden--visually\" id=\"sk-estimator-id-1\" type=\"checkbox\" checked><label for=\"sk-estimator-id-1\" class=\"sk-toggleable__label sk-toggleable__label-arrow\">XGBRegressor</label><div class=\"sk-toggleable__content\"><pre>XGBRegressor(base_score=0.5, booster=&#x27;gbtree&#x27;, callbacks=None,\n",
       "             colsample_bylevel=1, colsample_bynode=1, colsample_bytree=1,\n",
       "             early_stopping_rounds=None, enable_categorical=False,\n",
       "             eval_metric=None, gamma=1, gpu_id=-1, grow_policy=&#x27;depthwise&#x27;,\n",
       "             importance_type=None, interaction_constraints=&#x27;&#x27;,\n",
       "             learning_rate=0.1, max_bin=256, max_cat_to_onehot=4,\n",
       "             max_delta_step=0, max_depth=3, max_leaves=0, min_child_weight=1,\n",
       "             missing=nan, monotone_constraints=&#x27;()&#x27;, n_estimators=1100,\n",
       "             n_jobs=0, num_parallel_tree=1, predictor=&#x27;auto&#x27;, random_state=67,\n",
       "             reg_alpha=0, reg_lambda=1, ...)</pre></div></div></div></div></div>"
      ],
      "text/plain": [
       "XGBRegressor(base_score=0.5, booster='gbtree', callbacks=None,\n",
       "             colsample_bylevel=1, colsample_bynode=1, colsample_bytree=1,\n",
       "             early_stopping_rounds=None, enable_categorical=False,\n",
       "             eval_metric=None, gamma=1, gpu_id=-1, grow_policy='depthwise',\n",
       "             importance_type=None, interaction_constraints='',\n",
       "             learning_rate=0.1, max_bin=256, max_cat_to_onehot=4,\n",
       "             max_delta_step=0, max_depth=3, max_leaves=0, min_child_weight=1,\n",
       "             missing=nan, monotone_constraints='()', n_estimators=1100,\n",
       "             n_jobs=0, num_parallel_tree=1, predictor='auto', random_state=67,\n",
       "             reg_alpha=0, reg_lambda=1, ...)"
      ]
     },
     "execution_count": 3,
     "metadata": {},
     "output_type": "execute_result"
    }
   ],
   "source": [
    "regressor = XGBRegressor(n_estimators = 1100,\n",
    "                         max_depth = 3,\n",
    "                         gamma = 1, \n",
    "                         learning_rate = 0.1,\n",
    "                         random_state = 67)\n",
    "regressor.fit(X_train, y_train)"
   ]
  },
  {
   "cell_type": "markdown",
   "id": "5cd7f40a-5caa-490f-80fa-58de3495654b",
   "metadata": {},
   "source": [
    "## Create a KFold object with 5 splits "
   ]
  },
  {
   "cell_type": "code",
   "execution_count": 4,
   "id": "87d5753e-04a1-4028-8fbe-1faacbdd6519",
   "metadata": {},
   "outputs": [
    {
     "name": "stdout",
     "output_type": "stream",
     "text": [
      "[0.99421724 0.99378536 0.9912528  0.97540676 0.98398149]\n",
      "0.9877287305919304\n"
     ]
    }
   ],
   "source": [
    "regressor.fit (X_train, y_train)\n",
    "\n",
    "from sklearn.model_selection import cross_val_score\n",
    "from sklearn.model_selection import KFold\n",
    "folds = KFold(n_splits = 5, shuffle = False)\n",
    "scores = cross_val_score(regressor, X_train, y_train, scoring='r2', cv=folds)\n",
    "print (scores)\n",
    "print (scores.mean())\n"
   ]
  },
  {
   "cell_type": "markdown",
   "id": "49cceda3-4faf-48ae-9db6-75319addd42d",
   "metadata": {
    "tags": []
   },
   "source": [
    "# 3 - Prediction"
   ]
  },
  {
   "cell_type": "markdown",
   "id": "00414f3f-1164-4393-8478-2c4411fdedd0",
   "metadata": {},
   "source": [
    "## Load the model from disk"
   ]
  },
  {
   "cell_type": "code",
   "execution_count": 2,
   "id": "a4e19b03-5f18-4970-81bc-c8e6ed13bd8c",
   "metadata": {},
   "outputs": [],
   "source": [
    "filename = 'finalized_model_XGB.sav'\n",
    "regressor = pickle.load(open(filename, 'rb'))"
   ]
  },
  {
   "cell_type": "markdown",
   "id": "8f81b079-67b0-4a5d-b498-b1e0cca31bbd",
   "metadata": {},
   "source": [
    "## Predicting the Test set results"
   ]
  },
  {
   "cell_type": "code",
   "execution_count": 3,
   "id": "170b6a13-a3fd-4a98-b849-d7a82e4fd98e",
   "metadata": {},
   "outputs": [
    {
     "name": "stdout",
     "output_type": "stream",
     "text": [
      "[[ 109.27  108.77]\n",
      " [7961.11 8013.45]\n",
      " [ 145.18  144.28]\n",
      " [ 377.8   274.19]\n",
      " [ 939.99 1007.45]\n",
      " [ 196.49  196.22]\n",
      " [ 132.69  131.96]\n",
      " [ 170.28  171.51]\n",
      " [1727.76 1731.23]\n",
      " [ 136.93  136.45]\n",
      " [ 298.15  309.78]\n",
      " [ 536.3   524.14]\n",
      " [ 130.63  130.67]\n",
      " [ 138.44  130.75]\n",
      " [ 376.81  354.25]\n",
      " [ 121.55  119.43]\n",
      " [ 117.53  117.43]\n",
      " [ 134.21  124.04]\n",
      " [ 111.67  113.14]\n",
      " [ 120.24  120.34]\n",
      " [3157.51 3132.78]\n",
      " [ 124.76  125.44]\n",
      " [ 125.01  124.65]\n",
      " [ 114.41  113.93]\n",
      " [ 296.69  300.84]\n",
      " [ 112.38  111.93]\n",
      " [ 284.64  263.48]\n",
      " [ 124.18  123.06]\n",
      " [ 152.91  151.21]\n",
      " [ 118.95  119.65]\n",
      " [ 210.86  207.89]\n",
      " [ 146.86  144.44]\n",
      " [ 120.98  118.21]\n",
      " [ 103.96  103.93]\n",
      " [ 174.71  173.54]\n",
      " [ 116.51  116.69]\n",
      " [ 258.94  219.04]\n",
      " [ 139.57  139.79]\n",
      " [ 123.14  124.99]\n",
      " [ 134.39  133.57]\n",
      " [ 117.46  116.81]\n",
      " [ 132.35  132.17]\n",
      " [ 546.43  524.32]\n",
      " [ 153.43  152.22]\n",
      " [ 261.67  241.93]\n",
      " [ 152.96  152.24]\n",
      " [ 158.94  156.44]\n",
      " [ 118.78  118.46]\n",
      " [ 111.    110.56]\n",
      " [2797.45 2751.58]\n",
      " [ 114.38  114.36]\n",
      " [ 210.88  205.96]\n",
      " [ 130.3   129.69]\n",
      " [ 510.99  520.39]\n",
      " [1021.51  997.44]\n",
      " [ 137.37  135.82]\n",
      " [ 271.22  258.82]\n",
      " [ 229.06  232.9 ]\n",
      " [ 108.48  108.46]\n",
      " [ 136.54  134.85]\n",
      " [ 148.11  150.05]\n",
      " [ 211.64  224.18]\n",
      " [ 191.78  192.32]\n",
      " [ 117.92  119.82]\n",
      " [ 389.02  384.85]\n",
      " [ 119.12  118.86]\n",
      " [ 157.14  158.21]\n",
      " [ 116.36  115.96]\n",
      " [ 107.46  107.57]\n",
      " [ 193.4   196.16]\n",
      " [ 108.92  108.6 ]\n",
      " [ 248.32  257.63]\n",
      " [ 109.67  109.27]\n",
      " [2695.6  2554.42]\n",
      " [ 114.83  114.34]\n",
      " [ 422.65  432.36]\n",
      " [ 168.19  168.48]\n",
      " [ 142.97  142.99]\n",
      " [ 126.68  128.31]\n",
      " [ 104.28  105.17]\n",
      " [ 117.13  111.49]\n",
      " [ 441.87  447.72]\n",
      " [ 585.78  473.46]\n",
      " [ 257.78  262.81]\n",
      " [ 269.63  216.96]\n",
      " [ 291.1   284.81]\n",
      " [ 111.39  111.18]\n",
      " [1230.31 1196.18]\n",
      " [ 117.24  117.44]\n",
      " [ 190.66  188.36]\n",
      " [ 129.27  128.72]\n",
      " [ 110.53  111.34]\n",
      " [ 169.7   167.82]\n",
      " [3024.14 2936.76]\n",
      " [ 105.71  107.01]\n",
      " [ 123.12  122.45]\n",
      " [ 111.13  111.86]\n",
      " [ 115.87  116.45]\n",
      " [ 570.89  591.52]\n",
      " [ 166.1   171.16]\n",
      " [ 113.85  114.76]\n",
      " [ 242.74  241.43]\n",
      " [4205.55 3520.66]\n",
      " [ 130.73  129.15]\n",
      " [ 359.95  295.92]\n",
      " [ 143.41  148.55]\n",
      " [ 117.27  117.2 ]\n",
      " [ 114.65  115.53]\n",
      " [ 830.28  802.04]\n",
      " [ 240.46  174.48]]\n"
     ]
    }
   ],
   "source": [
    "y_pred = regressor.predict(X_test)\n",
    "np.set_printoptions(precision=2)\n",
    "file = np.concatenate((y_pred.reshape(len(y_pred),1), y_test.reshape(len(y_test),1)),1)\n",
    "print(file)"
   ]
  },
  {
   "cell_type": "markdown",
   "id": "89eeb6c5-b0fa-49fc-888f-f96cb1dbf370",
   "metadata": {
    "jp-MarkdownHeadingCollapsed": true,
    "tags": []
   },
   "source": [
    "## Print Output"
   ]
  },
  {
   "cell_type": "code",
   "execution_count": 18,
   "id": "bd9bc504-91d6-412c-9dc3-b73c1753784a",
   "metadata": {},
   "outputs": [
    {
     "ename": "PermissionError",
     "evalue": "[Errno 13] Permission denied: 'E:\\\\PhD\\\\Machine Learning\\\\Pressure_paper1/Output.xlsx'",
     "output_type": "error",
     "traceback": [
      "\u001b[1;31m---------------------------------------------------------------------------\u001b[0m",
      "\u001b[1;31mPermissionError\u001b[0m                           Traceback (most recent call last)",
      "\u001b[1;32m~\\AppData\\Local\\Temp\\ipykernel_1260\\1973465507.py\u001b[0m in \u001b[0;36m<module>\u001b[1;34m\u001b[0m\n\u001b[0;32m      1\u001b[0m \u001b[1;31m# Print \"Output_Pressure_XGB_with_KFold_Hyperparameter.xlsx\" file\u001b[0m\u001b[1;33m\u001b[0m\u001b[1;33m\u001b[0m\u001b[0m\n\u001b[0;32m      2\u001b[0m \u001b[0mdf\u001b[0m \u001b[1;33m=\u001b[0m \u001b[0mpd\u001b[0m\u001b[1;33m.\u001b[0m\u001b[0mDataFrame\u001b[0m\u001b[1;33m(\u001b[0m\u001b[0mfile\u001b[0m\u001b[1;33m)\u001b[0m\u001b[1;33m.\u001b[0m\u001b[0mT\u001b[0m\u001b[1;33m\u001b[0m\u001b[1;33m\u001b[0m\u001b[0m\n\u001b[1;32m----> 3\u001b[1;33m \u001b[0mdf\u001b[0m\u001b[1;33m.\u001b[0m\u001b[0mto_excel\u001b[0m\u001b[1;33m(\u001b[0m\u001b[0mexcel_writer\u001b[0m \u001b[1;33m=\u001b[0m \u001b[1;34m\"E:\\PhD\\Machine Learning\\Pressure_paper1/Output.xlsx\"\u001b[0m\u001b[1;33m)\u001b[0m\u001b[1;33m\u001b[0m\u001b[1;33m\u001b[0m\u001b[0m\n\u001b[0m",
      "\u001b[1;32m~\\anaconda3\\lib\\site-packages\\pandas\\core\\generic.py\u001b[0m in \u001b[0;36mto_excel\u001b[1;34m(self, excel_writer, sheet_name, na_rep, float_format, columns, header, index, index_label, startrow, startcol, engine, merge_cells, encoding, inf_rep, verbose, freeze_panes, storage_options)\u001b[0m\n\u001b[0;32m   2343\u001b[0m             \u001b[0minf_rep\u001b[0m\u001b[1;33m=\u001b[0m\u001b[0minf_rep\u001b[0m\u001b[1;33m,\u001b[0m\u001b[1;33m\u001b[0m\u001b[1;33m\u001b[0m\u001b[0m\n\u001b[0;32m   2344\u001b[0m         )\n\u001b[1;32m-> 2345\u001b[1;33m         formatter.write(\n\u001b[0m\u001b[0;32m   2346\u001b[0m             \u001b[0mexcel_writer\u001b[0m\u001b[1;33m,\u001b[0m\u001b[1;33m\u001b[0m\u001b[1;33m\u001b[0m\u001b[0m\n\u001b[0;32m   2347\u001b[0m             \u001b[0msheet_name\u001b[0m\u001b[1;33m=\u001b[0m\u001b[0msheet_name\u001b[0m\u001b[1;33m,\u001b[0m\u001b[1;33m\u001b[0m\u001b[1;33m\u001b[0m\u001b[0m\n",
      "\u001b[1;32m~\\anaconda3\\lib\\site-packages\\pandas\\io\\formats\\excel.py\u001b[0m in \u001b[0;36mwrite\u001b[1;34m(self, writer, sheet_name, startrow, startcol, freeze_panes, engine, storage_options)\u001b[0m\n\u001b[0;32m    886\u001b[0m             \u001b[1;31m# error: Cannot instantiate abstract class 'ExcelWriter' with abstract\u001b[0m\u001b[1;33m\u001b[0m\u001b[1;33m\u001b[0m\u001b[0m\n\u001b[0;32m    887\u001b[0m             \u001b[1;31m# attributes 'engine', 'save', 'supported_extensions' and 'write_cells'\u001b[0m\u001b[1;33m\u001b[0m\u001b[1;33m\u001b[0m\u001b[0m\n\u001b[1;32m--> 888\u001b[1;33m             writer = ExcelWriter(  # type: ignore[abstract]\n\u001b[0m\u001b[0;32m    889\u001b[0m                 \u001b[0mwriter\u001b[0m\u001b[1;33m,\u001b[0m \u001b[0mengine\u001b[0m\u001b[1;33m=\u001b[0m\u001b[0mengine\u001b[0m\u001b[1;33m,\u001b[0m \u001b[0mstorage_options\u001b[0m\u001b[1;33m=\u001b[0m\u001b[0mstorage_options\u001b[0m\u001b[1;33m\u001b[0m\u001b[1;33m\u001b[0m\u001b[0m\n\u001b[0;32m    890\u001b[0m             )\n",
      "\u001b[1;32m~\\anaconda3\\lib\\site-packages\\pandas\\io\\excel\\_xlsxwriter.py\u001b[0m in \u001b[0;36m__init__\u001b[1;34m(self, path, engine, date_format, datetime_format, mode, storage_options, if_sheet_exists, engine_kwargs, **kwargs)\u001b[0m\n\u001b[0;32m    189\u001b[0m             \u001b[1;32mraise\u001b[0m \u001b[0mValueError\u001b[0m\u001b[1;33m(\u001b[0m\u001b[1;34m\"Append mode is not supported with xlsxwriter!\"\u001b[0m\u001b[1;33m)\u001b[0m\u001b[1;33m\u001b[0m\u001b[1;33m\u001b[0m\u001b[0m\n\u001b[0;32m    190\u001b[0m \u001b[1;33m\u001b[0m\u001b[0m\n\u001b[1;32m--> 191\u001b[1;33m         super().__init__(\n\u001b[0m\u001b[0;32m    192\u001b[0m             \u001b[0mpath\u001b[0m\u001b[1;33m,\u001b[0m\u001b[1;33m\u001b[0m\u001b[1;33m\u001b[0m\u001b[0m\n\u001b[0;32m    193\u001b[0m             \u001b[0mengine\u001b[0m\u001b[1;33m=\u001b[0m\u001b[0mengine\u001b[0m\u001b[1;33m,\u001b[0m\u001b[1;33m\u001b[0m\u001b[1;33m\u001b[0m\u001b[0m\n",
      "\u001b[1;32m~\\anaconda3\\lib\\site-packages\\pandas\\io\\excel\\_base.py\u001b[0m in \u001b[0;36m__init__\u001b[1;34m(self, path, engine, date_format, datetime_format, mode, storage_options, if_sheet_exists, engine_kwargs, **kwargs)\u001b[0m\n\u001b[0;32m   1104\u001b[0m         )\n\u001b[0;32m   1105\u001b[0m         \u001b[1;32mif\u001b[0m \u001b[1;32mnot\u001b[0m \u001b[0misinstance\u001b[0m\u001b[1;33m(\u001b[0m\u001b[0mpath\u001b[0m\u001b[1;33m,\u001b[0m \u001b[0mExcelWriter\u001b[0m\u001b[1;33m)\u001b[0m\u001b[1;33m:\u001b[0m\u001b[1;33m\u001b[0m\u001b[1;33m\u001b[0m\u001b[0m\n\u001b[1;32m-> 1106\u001b[1;33m             self.handles = get_handle(\n\u001b[0m\u001b[0;32m   1107\u001b[0m                 \u001b[0mpath\u001b[0m\u001b[1;33m,\u001b[0m \u001b[0mmode\u001b[0m\u001b[1;33m,\u001b[0m \u001b[0mstorage_options\u001b[0m\u001b[1;33m=\u001b[0m\u001b[0mstorage_options\u001b[0m\u001b[1;33m,\u001b[0m \u001b[0mis_text\u001b[0m\u001b[1;33m=\u001b[0m\u001b[1;32mFalse\u001b[0m\u001b[1;33m\u001b[0m\u001b[1;33m\u001b[0m\u001b[0m\n\u001b[0;32m   1108\u001b[0m             )\n",
      "\u001b[1;32m~\\anaconda3\\lib\\site-packages\\pandas\\io\\common.py\u001b[0m in \u001b[0;36mget_handle\u001b[1;34m(path_or_buf, mode, encoding, compression, memory_map, is_text, errors, storage_options)\u001b[0m\n\u001b[0;32m    793\u001b[0m         \u001b[1;32melse\u001b[0m\u001b[1;33m:\u001b[0m\u001b[1;33m\u001b[0m\u001b[1;33m\u001b[0m\u001b[0m\n\u001b[0;32m    794\u001b[0m             \u001b[1;31m# Binary mode\u001b[0m\u001b[1;33m\u001b[0m\u001b[1;33m\u001b[0m\u001b[0m\n\u001b[1;32m--> 795\u001b[1;33m             \u001b[0mhandle\u001b[0m \u001b[1;33m=\u001b[0m \u001b[0mopen\u001b[0m\u001b[1;33m(\u001b[0m\u001b[0mhandle\u001b[0m\u001b[1;33m,\u001b[0m \u001b[0mioargs\u001b[0m\u001b[1;33m.\u001b[0m\u001b[0mmode\u001b[0m\u001b[1;33m)\u001b[0m\u001b[1;33m\u001b[0m\u001b[1;33m\u001b[0m\u001b[0m\n\u001b[0m\u001b[0;32m    796\u001b[0m         \u001b[0mhandles\u001b[0m\u001b[1;33m.\u001b[0m\u001b[0mappend\u001b[0m\u001b[1;33m(\u001b[0m\u001b[0mhandle\u001b[0m\u001b[1;33m)\u001b[0m\u001b[1;33m\u001b[0m\u001b[1;33m\u001b[0m\u001b[0m\n\u001b[0;32m    797\u001b[0m \u001b[1;33m\u001b[0m\u001b[0m\n",
      "\u001b[1;31mPermissionError\u001b[0m: [Errno 13] Permission denied: 'E:\\\\PhD\\\\Machine Learning\\\\Pressure_paper1/Output.xlsx'"
     ]
    }
   ],
   "source": [
    "df = pd.DataFrame(file).T\n",
    "df.to_excel(excel_writer = \"E:/PhD/Machine Learning/Pressure_paper1/Output_XGB.xlsx\")"
   ]
  },
  {
   "cell_type": "markdown",
   "id": "46c6ed60-2a16-4b04-8f9c-edd861cfb8c6",
   "metadata": {
    "tags": []
   },
   "source": [
    "# 4- Evaluating the Model Performance"
   ]
  },
  {
   "cell_type": "markdown",
   "id": "eb215add-2a34-44c4-ad02-e66117445d64",
   "metadata": {},
   "source": [
    "### R2"
   ]
  },
  {
   "cell_type": "code",
   "execution_count": 7,
   "id": "6a1003ab-c911-4aee-b5d5-447ba39cac5d",
   "metadata": {},
   "outputs": [
    {
     "name": "stdout",
     "output_type": "stream",
     "text": [
      "0.9945513442741739\n"
     ]
    }
   ],
   "source": [
    "from sklearn.metrics import r2_score\n",
    "r2 = r2_score(y_test, y_pred)\n",
    "print (r2)"
   ]
  },
  {
   "cell_type": "markdown",
   "id": "7482ec9e-cf84-4276-b678-b57e99c432a3",
   "metadata": {},
   "source": [
    "### Adj R2"
   ]
  },
  {
   "cell_type": "code",
   "execution_count": 8,
   "id": "7a349c16-e900-41b3-85bd-de86920bc58a",
   "metadata": {},
   "outputs": [
    {
     "name": "stdout",
     "output_type": "stream",
     "text": [
      "0.9943437764369996\n"
     ]
    }
   ],
   "source": [
    "adj_r2 = 1 - ((1 - r2) * (len(X_test) - 1) / (len(X_test) - len (X_test[0]) - 1))\n",
    "print (adj_r2)"
   ]
  },
  {
   "cell_type": "markdown",
   "id": "ac46414e-8d75-4096-8371-f9e554d5e092",
   "metadata": {},
   "source": [
    "### RMSE"
   ]
  },
  {
   "cell_type": "code",
   "execution_count": 9,
   "id": "5300c59e-57c2-49d7-8979-65b158800dce",
   "metadata": {},
   "outputs": [
    {
     "data": {
      "text/plain": [
       "70.64755500939542"
      ]
     },
     "execution_count": 9,
     "metadata": {},
     "output_type": "execute_result"
    }
   ],
   "source": [
    "import math\n",
    "from sklearn.metrics import mean_squared_error\n",
    "\n",
    "math.sqrt(mean_squared_error(y_test, y_pred))"
   ]
  },
  {
   "cell_type": "markdown",
   "id": "641c5869-0863-4653-8aa3-d3207d468ab8",
   "metadata": {},
   "source": [
    "### MAE"
   ]
  },
  {
   "cell_type": "code",
   "execution_count": 10,
   "id": "f0118c54-2dc2-4831-b808-2d22efca9487",
   "metadata": {},
   "outputs": [
    {
     "data": {
      "text/plain": [
       "17.693809065385295"
      ]
     },
     "execution_count": 10,
     "metadata": {},
     "output_type": "execute_result"
    }
   ],
   "source": [
    "from sklearn.metrics import mean_absolute_error\n",
    "\n",
    "mean_absolute_error(y_test, y_pred)"
   ]
  },
  {
   "cell_type": "markdown",
   "id": "f00b9352-1951-4407-84b4-4d609a0d80d0",
   "metadata": {
    "jp-MarkdownHeadingCollapsed": true,
    "tags": []
   },
   "source": [
    "## Visualize"
   ]
  },
  {
   "cell_type": "code",
   "execution_count": 11,
   "id": "1e053bd3-a51c-4152-82f5-c2dcfb35823c",
   "metadata": {},
   "outputs": [
    {
     "data": {
      "text/plain": [
       "Text(0, 0.5, 'Predicted data')"
      ]
     },
     "execution_count": 11,
     "metadata": {},
     "output_type": "execute_result"
    },
    {
     "data": {
      "image/png": "[encoded data removed]",
      "text/plain": [
       "<Figure size 432x288 with 1 Axes>"
      ]
     },
     "metadata": {
      "needs_background": "light"
     },
     "output_type": "display_data"
    }
   ],
   "source": [
    "plt.scatter(y_test, y_pred, color=\"blue\")\n",
    "plt.plot ([0,4000],[0,4000], color = \"red\")\n",
    "plt.axis ([0,4000,0,4000])\n",
    "plt.xlabel ('Actual data')\n",
    "plt.ylabel ('Predicted data')"
   ]
  },
  {
   "cell_type": "markdown",
   "id": "f16e6b0e-fed0-470c-9761-8deacade8d28",
   "metadata": {
    "jp-MarkdownHeadingCollapsed": true,
    "tags": []
   },
   "source": [
    "## Error percentage visualization"
   ]
  },
  {
   "cell_type": "code",
   "execution_count": 12,
   "id": "1b9462f9-27e2-4460-b93e-79a62a5cb0c0",
   "metadata": {},
   "outputs": [
    {
     "data": {
      "text/plain": [
       "Text(2500, 750, 'Adj.$R^2$ = 0.994')"
      ]
     },
     "execution_count": 12,
     "metadata": {},
     "output_type": "execute_result"
    },
    {
     "data": {
      "image/png": "[encoded data removed]",
      "text/plain": [
       "<Figure size 648x648 with 1 Axes>"
      ]
     },
     "metadata": {
      "needs_background": "light"
     },
     "output_type": "display_data"
    }
   ],
   "source": [
    "from sklearn.metrics import r2_score\n",
    "# Initialize layout\n",
    "fig, ax = plt.subplots(figsize = (9, 9))\n",
    "\n",
    "\n",
    "#y = y_pred         # Model on prvious line is called here\n",
    "#x = y_test\n",
    "\n",
    "\n",
    "\n",
    "# Add scatterplot\n",
    "ax.scatter(y_test, y_pred, s=70, alpha=1, edgecolors=\"k\",c='mediumblue',zorder=5, label = 'Points')\n",
    "\n",
    "# Fit linear regression via least squares with numpy.polyfit\n",
    "# It returns an slope (b) and intercept (a)\n",
    "# deg=1 means linear fit (i.e. polynomial of degree 1)\n",
    "# b, a = np.polyfit(x, y, deg=1)\n",
    "\n",
    "# Create sequence of 50 numbers from 0 to 5 \n",
    "#xseq = np.linspace(0, 5)\n",
    "\n",
    "\n",
    "\n",
    "plt.ylabel('Predicted Peak Incident Pressure (kPa)',fontsize = 25)\n",
    "plt.xlabel('Actual Peak Incident Pressure (kPa)',fontsize = 25)\n",
    "plt.xticks(fontsize = 19)\n",
    "plt.yticks(fontsize = 19)\n",
    "\n",
    "\n",
    "# Plot regression line\n",
    "# ax.plot(xseq, a + b * xseq, color=\"Red\", lw=2.5,label='X=Y',alpha=1);\n",
    "\n",
    "\n",
    "x1 = np.linspace(0,4000)\n",
    "\n",
    "plt.plot(x1, x1, 'Red', label='45\\N{DEGREE SIGN} line',lw=2.5,alpha=1)\n",
    "plt.plot(x1, 1.1*x1, '--m', label='\\u00B110% Error',lw=2.5,alpha=0.7)\n",
    "plt.plot(x1, 0.9*x1,'m', linestyle='--',lw=2.5,alpha=0.7)\n",
    "plt.plot(x1, 1.2*x1, '-.g', label='\\u00B120% Error',lw=2.5,alpha=0.7)\n",
    "plt.plot(x1, 0.8*x1,'-.g',lw=2.5,alpha=0.7)\n",
    "\n",
    "plt.ylim(0, 4000)\n",
    "plt.xlim(0, 4000)\n",
    "plt.legend(loc='upper left',fontsize = 25)\n",
    "\n",
    "plt.grid()\n",
    "\n",
    "ax.spines['left'].set_color('black')        # setting up Y-axis tick color to red\n",
    "ax.spines['bottom'].set_color('black')         #setting up above X-axis tick color to red\n",
    "\n",
    "\n",
    "\n",
    "ax.annotate(\"$R^2$ = {:.3f}\".format(r2), (2500, 1000),fontsize = 25)  #Model is called here\n",
    "ax.annotate(\"Adj.$R^2$ = {:.3f}\".format(adj_r2), (2500, 750),fontsize = 25)\n",
    "\n",
    "#plt.savefig('plot1.png', dpi = 600, bbox_inches = 'tight')"
   ]
  },
  {
   "cell_type": "markdown",
   "id": "1439222a-1fa6-4539-9617-c4f36ad27c37",
   "metadata": {
    "jp-MarkdownHeadingCollapsed": true,
    "tags": []
   },
   "source": [
    "## Error margins"
   ]
  },
  {
   "cell_type": "code",
   "execution_count": 13,
   "id": "deb78b28-3b31-4ded-8e4b-9a865b694c17",
   "metadata": {},
   "outputs": [
    {
     "name": "stdout",
     "output_type": "stream",
     "text": [
      "Within 10% margin 93.64%\n",
      "Within 20% margin 95.45%\n",
      "Out of 20% margin 4.55%\n"
     ]
    }
   ],
   "source": [
    "count1 = 0\n",
    "for i in range(len(y_pred)):\n",
    "    line1 = y_pred[i] - 0.9*y_test[i]\n",
    "    line2 = y_pred[i] - 1.1*y_test[i]\n",
    "    #print ('line 1 ', line1)\n",
    "    #print ('line 2 ', line2)\n",
    "    mask1 = (line1 > 0) & (line2 < 0)\n",
    "    #print (mask)\n",
    "    count1 = np.sum(mask1+count1)\n",
    "    #print (count)\n",
    "\n",
    "count2 = 0\n",
    "for j in range(len(y_pred)):\n",
    "    line3 = y_pred[j] - 0.8*y_test[j]\n",
    "    line4 = y_pred[j] - 1.2*y_test[j]\n",
    "    mask2 = (line3 > 0) & (line4 < 0)\n",
    "    count2 = np.sum(mask2+count2)\n",
    "\n",
    "\n",
    "count3 = 0    \n",
    "for k in range(len(y_pred)):\n",
    "    line5 = y_pred[k] - 0.8*y_test[k]\n",
    "    line6 = y_pred[k] - 1.2*y_test[k]\n",
    "    mask3 = (line5 < 0) or (line6 > 0)\n",
    "    count3 = np.sum(mask3+count3)\n",
    "   \n",
    "\n",
    "print ('Within 10% margin', format((count1/len (y_pred)),'.2%'))\n",
    "print ('Within 20% margin', format((count2/len (y_pred)),'.2%'))\n",
    "print ('Out of 20% margin', format((count3/len (y_pred)),'.2%'))"
   ]
  },
  {
   "cell_type": "markdown",
   "id": "fd01f5c3-7b73-48b5-8525-9e404866600b",
   "metadata": {
    "tags": []
   },
   "source": [
    "## <500 kPa"
   ]
  },
  {
   "cell_type": "code",
   "execution_count": 14,
   "id": "d9bfebf5-68e2-4376-a7ff-f67d4d3c32b5",
   "metadata": {},
   "outputs": [
    {
     "data": {
      "image/png": "[encoded data removed]",
      "text/plain": [
       "<Figure size 648x648 with 1 Axes>"
      ]
     },
     "metadata": {
      "needs_background": "light"
     },
     "output_type": "display_data"
    }
   ],
   "source": [
    "from sklearn.metrics import r2_score\n",
    "# Initialize layout\n",
    "fig1, bx = plt.subplots(figsize = (9, 9))\n",
    "\n",
    "\n",
    "#y = y_pred         # Model on prvious line is called here\n",
    "#x = y_test\n",
    "\n",
    "\n",
    "\n",
    "# Add scatterplot\n",
    "bx.scatter(y_test, y_pred, s=70, alpha=1, edgecolors=\"k\",c='mediumblue',zorder=5, label = 'Points')\n",
    "\n",
    "# Fit linear regression via least squares with numpy.polyfit\n",
    "# It returns an slope (b) and intercept (a)\n",
    "# deg=1 means linear fit (i.e. polynomial of degree 1)\n",
    "# b, a = np.polyfit(x, y, deg=1)\n",
    "\n",
    "# Create sequence of 50 numbers from 0 to 5 \n",
    "#xseq = np.linspace(0, 5)\n",
    "\n",
    "\n",
    "\n",
    "plt.ylabel('Predicted Peak Incident Pressure (kPa)',fontsize = 25)\n",
    "plt.xlabel('Actual Peak Incident Pressure (kPa)',fontsize = 25)\n",
    "plt.xticks(fontsize = 19)\n",
    "plt.yticks(fontsize = 19)\n",
    "\n",
    "\n",
    "# Plot regression line\n",
    "# ax.plot(xseq, a + b * xseq, color=\"Red\", lw=2.5,label='X=Y',alpha=1);\n",
    "\n",
    "\n",
    "x1 = np.linspace(0,500)\n",
    "\n",
    "plt.plot(x1, x1, 'Red', label='45\\N{DEGREE SIGN} line',lw=2.5,alpha=1)\n",
    "plt.plot(x1, 1.1*x1, '--m', label='\\u00B110% Error',lw=2.5,alpha=0.7)\n",
    "plt.plot(x1, 0.9*x1,'m', linestyle='--',lw=2.5,alpha=0.7)\n",
    "plt.plot(x1, 1.2*x1, '-.g', label='\\u00B120% Error',lw=2.5,alpha=0.7)\n",
    "plt.plot(x1, 0.8*x1,'-.g',lw=2.5,alpha=0.7)\n",
    "\n",
    "plt.ylim(0, 500)\n",
    "plt.xlim(0, 500)\n",
    "plt.legend(loc='upper left',fontsize = 25)\n",
    "\n",
    "plt.grid()\n",
    "\n",
    "ax.spines['left'].set_color('black')        # setting up Y-axis tick color to red\n",
    "ax.spines['bottom'].set_color('black')         #setting up above X-axis tick color to red\n",
    "\n",
    "\n",
    "\n",
    "#ax.annotate(\"$R^2$ = {:.3f}\".format(r2_score(y_test, y_pred)), (300, 100),fontsize = 25)  #Model is called here\n",
    "\n",
    "#plt.savefig('plot1.png', dpi = 600, bbox_inches = 'tight')"
   ]
  },
  {
   "cell_type": "markdown",
   "id": "9d996192-2828-4b3f-ba0b-ac2d749398af",
   "metadata": {},
   "source": [
    "# 5 - Contour plot visualization"
   ]
  },
  {
   "cell_type": "markdown",
   "id": "0e3fb175-3386-44d8-b3f0-57f6400a4959",
   "metadata": {
    "jp-MarkdownHeadingCollapsed": true,
    "tags": []
   },
   "source": [
    "### Clarifications"
   ]
  },
  {
   "cell_type": "code",
   "execution_count": 7,
   "id": "0f88d204-5938-46a2-8328-7ec546b568d0",
   "metadata": {},
   "outputs": [
    {
     "data": {
      "text/plain": [
       "(110, 4)"
      ]
     },
     "execution_count": 7,
     "metadata": {},
     "output_type": "execute_result"
    }
   ],
   "source": [
    "X_test.shape"
   ]
  },
  {
   "cell_type": "code",
   "execution_count": 8,
   "id": "2ec2de39-3c42-4445-9c7f-145a73c4a7d8",
   "metadata": {},
   "outputs": [
    {
     "name": "stdout",
     "output_type": "stream",
     "text": [
      "[[0.0 1.0 3.5 17.5]\n",
      " [1.0 0.0 24.0 1.0]\n",
      " [1.0 0.0 22.0 11.0]\n",
      " [1.0 0.0 1.0 2.0]\n",
      " [0.0 1.0 15.5 2.5]\n",
      " [1.0 0.0 12.0 6.0]\n",
      " [1.0 0.0 24.0 14.0]\n",
      " [1.0 0.0 18.0 8.0]\n",
      " [1.0 0.0 16.0 2.0]\n",
      " [0.0 1.0 23.5 12.5]\n",
      " [0.0 1.0 7.5 3.5]\n",
      " [0.0 1.0 17.5 3.5]\n",
      " [0.0 1.0 21.5 13.5]\n",
      " [1.0 0.0 1.0 5.0]\n",
      " [0.0 1.0 9.5 3.5]\n",
      " [0.0 1.0 1.5 7.5]\n",
      " [1.0 0.0 18.0 19.0]\n",
      " [0.0 1.0 0.5 4.5]\n",
      " [1.0 0.0 4.0 14.0]\n",
      " [1.0 0.0 22.0 18.0]\n",
      " [0.0 1.0 19.5 1.5]\n",
      " [1.0 0.0 20.0 15.0]\n",
      " [0.0 1.0 17.5 14.5]\n",
      " [0.0 1.0 9.5 17.5]\n",
      " [1.0 0.0 20.0 5.0]\n",
      " [1.0 0.0 4.0 15.0]\n",
      " [0.0 1.0 11.5 4.5]\n",
      " [1.0 0.0 20.0 16.0]\n",
      " [0.0 1.0 13.5 8.5]\n",
      " [0.0 1.0 19.5 17.5]\n",
      " [0.0 1.0 19.5 6.5]\n",
      " [1.0 0.0 2.0 5.0]\n",
      " [0.0 1.0 9.5 14.5]\n",
      " [0.0 1.0 0.5 16.5]\n",
      " [0.0 1.0 24.5 8.5]\n",
      " [1.0 0.0 14.0 18.0]\n",
      " [0.0 1.0 3.5 3.5]\n",
      " [0.0 1.0 21.5 11.5]\n",
      " [0.0 1.0 11.5 12.5]\n",
      " [1.0 0.0 22.0 13.0]\n",
      " [1.0 0.0 12.0 17.0]\n",
      " [0.0 1.0 23.5 13.5]\n",
      " [1.0 0.0 24.0 4.0]\n",
      " [0.0 1.0 19.5 9.5]\n",
      " [0.0 1.0 9.5 4.5]\n",
      " [1.0 0.0 22.0 10.0]\n",
      " [1.0 0.0 24.0 10.0]\n",
      " [1.0 0.0 1.0 7.0]\n",
      " [0.0 1.0 1.5 11.5]\n",
      " [0.0 1.0 15.5 1.5]\n",
      " [1.0 0.0 14.0 20.0]\n",
      " [0.0 1.0 11.5 5.5]\n",
      " [0.0 1.0 9.5 10.5]\n",
      " [1.0 0.0 10.0 3.0]\n",
      " [1.0 0.0 24.0 3.0]\n",
      " [0.0 1.0 13.5 10.5]\n",
      " [1.0 0.0 14.0 5.0]\n",
      " [1.0 0.0 20.0 6.0]\n",
      " [0.0 1.0 1.5 13.5]\n",
      " [0.0 1.0 9.5 9.5]\n",
      " [1.0 0.0 10.0 8.0]\n",
      " [1.0 0.0 10.0 5.0]\n",
      " [0.0 1.0 15.5 6.5]\n",
      " [1.0 0.0 14.0 16.0]\n",
      " [1.0 0.0 16.0 4.0]\n",
      " [1.0 0.0 18.0 18.0]\n",
      " [0.0 1.0 11.5 7.5]\n",
      " [0.0 1.0 17.5 19.5]\n",
      " [0.0 1.0 3.5 19.5]\n",
      " [1.0 0.0 20.0 7.0]\n",
      " [1.0 0.0 4.0 19.0]\n",
      " [1.0 0.0 24.0 6.0]\n",
      " [1.0 0.0 4.0 18.0]\n",
      " [0.0 1.0 13.5 1.5]\n",
      " [1.0 0.0 12.0 19.0]\n",
      " [1.0 0.0 18.0 4.0]\n",
      " [1.0 0.0 24.0 9.0]\n",
      " [1.0 0.0 16.0 10.0]\n",
      " [1.0 0.0 12.0 12.0]\n",
      " [0.0 1.0 1.5 19.5]\n",
      " [0.0 1.0 0.5 7.5]\n",
      " [1.0 0.0 20.0 4.0]\n",
      " [0.0 1.0 5.5 2.5]\n",
      " [1.0 0.0 25.0 6.0]\n",
      " [1.0 0.0 2.0 3.0]\n",
      " [0.0 1.0 13.5 4.5]\n",
      " [1.0 0.0 6.0 18.0]\n",
      " [0.0 1.0 19.5 2.5]\n",
      " [1.0 0.0 22.0 20.0]\n",
      " [1.0 0.0 25.0 8.0]\n",
      " [0.0 1.0 23.5 14.5]\n",
      " [0.0 1.0 3.5 14.5]\n",
      " [0.0 1.0 21.5 8.5]\n",
      " [0.0 1.0 17.5 1.5]\n",
      " [1.0 0.0 1.0 14.0]\n",
      " [1.0 0.0 18.0 16.0]\n",
      " [1.0 0.0 8.0 19.0]\n",
      " [0.0 1.0 13.5 17.5]\n",
      " [1.0 0.0 12.0 3.0]\n",
      " [1.0 0.0 12.0 7.0]\n",
      " [0.0 1.0 7.5 15.5]\n",
      " [1.0 0.0 12.0 5.0]\n",
      " [1.0 0.0 6.0 1.0]\n",
      " [0.0 1.0 15.5 12.5]\n",
      " [1.0 0.0 4.0 3.0]\n",
      " [0.0 1.0 5.5 6.5]\n",
      " [0.0 1.0 17.5 18.5]\n",
      " [0.0 1.0 5.5 13.5]\n",
      " [1.0 0.0 18.0 3.0]\n",
      " [1.0 0.0 1.0 3.0]]\n"
     ]
    }
   ],
   "source": [
    "print (X_test)"
   ]
  },
  {
   "cell_type": "markdown",
   "id": "76679c81-d8e5-4793-b945-6bc093e53379",
   "metadata": {},
   "source": [
    "### Define the extents of the 2D space and the mesh size"
   ]
  },
  {
   "cell_type": "code",
   "execution_count": 4,
   "id": "cde59ac4-0023-4149-af93-e0904d32691e",
   "metadata": {
    "tags": []
   },
   "outputs": [
    {
     "name": "stdout",
     "output_type": "stream",
     "text": [
      "(10, 10)\n",
      "[[2.83]\n",
      " [2.53]\n",
      " [2.29]\n",
      " [2.11]\n",
      " [2.01]\n",
      " [2.01]\n",
      " [2.11]\n",
      " [2.29]\n",
      " [2.53]\n",
      " [2.83]\n",
      " [2.53]\n",
      " [2.2 ]\n",
      " [1.91]\n",
      " [1.69]\n",
      " [1.57]\n",
      " [1.57]\n",
      " [1.69]\n",
      " [1.91]\n",
      " [2.2 ]\n",
      " [2.53]\n",
      " [2.29]\n",
      " [1.91]\n",
      " [1.57]\n",
      " [1.3 ]\n",
      " [1.13]\n",
      " [1.13]\n",
      " [1.3 ]\n",
      " [1.57]\n",
      " [1.91]\n",
      " [2.29]\n",
      " [2.11]\n",
      " [1.69]\n",
      " [1.3 ]\n",
      " [0.94]\n",
      " [0.7 ]\n",
      " [0.7 ]\n",
      " [0.94]\n",
      " [1.3 ]\n",
      " [1.69]\n",
      " [2.11]\n",
      " [2.01]\n",
      " [1.57]\n",
      " [1.13]\n",
      " [0.7 ]\n",
      " [0.31]\n",
      " [0.31]\n",
      " [0.7 ]\n",
      " [1.13]\n",
      " [1.57]\n",
      " [2.01]\n",
      " [2.01]\n",
      " [1.57]\n",
      " [1.13]\n",
      " [0.7 ]\n",
      " [0.31]\n",
      " [0.31]\n",
      " [0.7 ]\n",
      " [1.13]\n",
      " [1.57]\n",
      " [2.01]\n",
      " [2.11]\n",
      " [1.69]\n",
      " [1.3 ]\n",
      " [0.94]\n",
      " [0.7 ]\n",
      " [0.7 ]\n",
      " [0.94]\n",
      " [1.3 ]\n",
      " [1.69]\n",
      " [2.11]\n",
      " [2.29]\n",
      " [1.91]\n",
      " [1.57]\n",
      " [1.3 ]\n",
      " [1.13]\n",
      " [1.13]\n",
      " [1.3 ]\n",
      " [1.57]\n",
      " [1.91]\n",
      " [2.29]\n",
      " [2.53]\n",
      " [2.2 ]\n",
      " [1.91]\n",
      " [1.69]\n",
      " [1.57]\n",
      " [1.57]\n",
      " [1.69]\n",
      " [1.91]\n",
      " [2.2 ]\n",
      " [2.53]\n",
      " [2.83]\n",
      " [2.53]\n",
      " [2.29]\n",
      " [2.11]\n",
      " [2.01]\n",
      " [2.01]\n",
      " [2.11]\n",
      " [2.29]\n",
      " [2.53]\n",
      " [2.83]]\n",
      "(100, 1)\n",
      "value 2.0123078084749815\n"
     ]
    }
   ],
   "source": [
    "start, stop, n_values = -2, 2, 10\n",
    "\n",
    "x_vals = np.linspace(start, stop, n_values)\n",
    "y_vals = np.linspace(start, stop, n_values)\n",
    "X, Y = np.meshgrid(x_vals, y_vals)\n",
    "\n",
    "Z = np.sqrt(X**2 + Y**2)\n",
    "print (Z.shape)\n",
    "\n",
    "d = Z.reshape(-1)\n",
    "d = d.reshape(len (d), 1)\n",
    "print (d)\n",
    "print (d.shape)\n",
    "print (\"value\", d[4,0])"
   ]
  },
  {
   "cell_type": "markdown",
   "id": "1d6a8917-5395-4037-9793-1099763a0f4b",
   "metadata": {
    "jp-MarkdownHeadingCollapsed": true,
    "tags": []
   },
   "source": [
    "### Filter unique standoff distances"
   ]
  },
  {
   "cell_type": "code",
   "execution_count": 21,
   "id": "0f2c8c8e-82f1-41b3-979a-f59259506cde",
   "metadata": {
    "tags": []
   },
   "outputs": [
    {
     "name": "stdout",
     "output_type": "stream",
     "text": [
      "<class 'list'>\n",
      "94402\n"
     ]
    }
   ],
   "source": [
    "d_list = [tuple(row) for row in d]\n",
    "#print (d_list)\n",
    "print (type(d_list))\n",
    "standoff_dis_list = list(set(d_list))\n",
    "print (len(standoff_dis_list))"
   ]
  },
  {
   "cell_type": "markdown",
   "id": "2f527535-ed1d-4663-984f-c4d7471e4d65",
   "metadata": {},
   "source": [
    "### Defining charge mass and charge type"
   ]
  },
  {
   "cell_type": "code",
   "execution_count": 5,
   "id": "06fa45f6-cd14-41ce-93ff-d83c8c93e0ca",
   "metadata": {
    "tags": []
   },
   "outputs": [
    {
     "name": "stdout",
     "output_type": "stream",
     "text": [
      "(100, 1)\n",
      "[[17.7]\n",
      " [17.7]\n",
      " [17.7]\n",
      " [17.7]\n",
      " [17.7]\n",
      " [17.7]\n",
      " [17.7]\n",
      " [17.7]\n",
      " [17.7]\n",
      " [17.7]\n",
      " [17.7]\n",
      " [17.7]\n",
      " [17.7]\n",
      " [17.7]\n",
      " [17.7]\n",
      " [17.7]\n",
      " [17.7]\n",
      " [17.7]\n",
      " [17.7]\n",
      " [17.7]\n",
      " [17.7]\n",
      " [17.7]\n",
      " [17.7]\n",
      " [17.7]\n",
      " [17.7]\n",
      " [17.7]\n",
      " [17.7]\n",
      " [17.7]\n",
      " [17.7]\n",
      " [17.7]\n",
      " [17.7]\n",
      " [17.7]\n",
      " [17.7]\n",
      " [17.7]\n",
      " [17.7]\n",
      " [17.7]\n",
      " [17.7]\n",
      " [17.7]\n",
      " [17.7]\n",
      " [17.7]\n",
      " [17.7]\n",
      " [17.7]\n",
      " [17.7]\n",
      " [17.7]\n",
      " [17.7]\n",
      " [17.7]\n",
      " [17.7]\n",
      " [17.7]\n",
      " [17.7]\n",
      " [17.7]\n",
      " [17.7]\n",
      " [17.7]\n",
      " [17.7]\n",
      " [17.7]\n",
      " [17.7]\n",
      " [17.7]\n",
      " [17.7]\n",
      " [17.7]\n",
      " [17.7]\n",
      " [17.7]\n",
      " [17.7]\n",
      " [17.7]\n",
      " [17.7]\n",
      " [17.7]\n",
      " [17.7]\n",
      " [17.7]\n",
      " [17.7]\n",
      " [17.7]\n",
      " [17.7]\n",
      " [17.7]\n",
      " [17.7]\n",
      " [17.7]\n",
      " [17.7]\n",
      " [17.7]\n",
      " [17.7]\n",
      " [17.7]\n",
      " [17.7]\n",
      " [17.7]\n",
      " [17.7]\n",
      " [17.7]\n",
      " [17.7]\n",
      " [17.7]\n",
      " [17.7]\n",
      " [17.7]\n",
      " [17.7]\n",
      " [17.7]\n",
      " [17.7]\n",
      " [17.7]\n",
      " [17.7]\n",
      " [17.7]\n",
      " [17.7]\n",
      " [17.7]\n",
      " [17.7]\n",
      " [17.7]\n",
      " [17.7]\n",
      " [17.7]\n",
      " [17.7]\n",
      " [17.7]\n",
      " [17.7]\n",
      " [17.7]]\n",
      "(100, 1)\n",
      "[[1]\n",
      " [1]\n",
      " [1]\n",
      " [1]\n",
      " [1]\n",
      " [1]\n",
      " [1]\n",
      " [1]\n",
      " [1]\n",
      " [1]\n",
      " [1]\n",
      " [1]\n",
      " [1]\n",
      " [1]\n",
      " [1]\n",
      " [1]\n",
      " [1]\n",
      " [1]\n",
      " [1]\n",
      " [1]\n",
      " [1]\n",
      " [1]\n",
      " [1]\n",
      " [1]\n",
      " [1]\n",
      " [1]\n",
      " [1]\n",
      " [1]\n",
      " [1]\n",
      " [1]\n",
      " [1]\n",
      " [1]\n",
      " [1]\n",
      " [1]\n",
      " [1]\n",
      " [1]\n",
      " [1]\n",
      " [1]\n",
      " [1]\n",
      " [1]\n",
      " [1]\n",
      " [1]\n",
      " [1]\n",
      " [1]\n",
      " [1]\n",
      " [1]\n",
      " [1]\n",
      " [1]\n",
      " [1]\n",
      " [1]\n",
      " [1]\n",
      " [1]\n",
      " [1]\n",
      " [1]\n",
      " [1]\n",
      " [1]\n",
      " [1]\n",
      " [1]\n",
      " [1]\n",
      " [1]\n",
      " [1]\n",
      " [1]\n",
      " [1]\n",
      " [1]\n",
      " [1]\n",
      " [1]\n",
      " [1]\n",
      " [1]\n",
      " [1]\n",
      " [1]\n",
      " [1]\n",
      " [1]\n",
      " [1]\n",
      " [1]\n",
      " [1]\n",
      " [1]\n",
      " [1]\n",
      " [1]\n",
      " [1]\n",
      " [1]\n",
      " [1]\n",
      " [1]\n",
      " [1]\n",
      " [1]\n",
      " [1]\n",
      " [1]\n",
      " [1]\n",
      " [1]\n",
      " [1]\n",
      " [1]\n",
      " [1]\n",
      " [1]\n",
      " [1]\n",
      " [1]\n",
      " [1]\n",
      " [1]\n",
      " [1]\n",
      " [1]\n",
      " [1]\n",
      " [1]]\n",
      "(100, 1)\n",
      "[[0]\n",
      " [0]\n",
      " [0]\n",
      " [0]\n",
      " [0]\n",
      " [0]\n",
      " [0]\n",
      " [0]\n",
      " [0]\n",
      " [0]\n",
      " [0]\n",
      " [0]\n",
      " [0]\n",
      " [0]\n",
      " [0]\n",
      " [0]\n",
      " [0]\n",
      " [0]\n",
      " [0]\n",
      " [0]\n",
      " [0]\n",
      " [0]\n",
      " [0]\n",
      " [0]\n",
      " [0]\n",
      " [0]\n",
      " [0]\n",
      " [0]\n",
      " [0]\n",
      " [0]\n",
      " [0]\n",
      " [0]\n",
      " [0]\n",
      " [0]\n",
      " [0]\n",
      " [0]\n",
      " [0]\n",
      " [0]\n",
      " [0]\n",
      " [0]\n",
      " [0]\n",
      " [0]\n",
      " [0]\n",
      " [0]\n",
      " [0]\n",
      " [0]\n",
      " [0]\n",
      " [0]\n",
      " [0]\n",
      " [0]\n",
      " [0]\n",
      " [0]\n",
      " [0]\n",
      " [0]\n",
      " [0]\n",
      " [0]\n",
      " [0]\n",
      " [0]\n",
      " [0]\n",
      " [0]\n",
      " [0]\n",
      " [0]\n",
      " [0]\n",
      " [0]\n",
      " [0]\n",
      " [0]\n",
      " [0]\n",
      " [0]\n",
      " [0]\n",
      " [0]\n",
      " [0]\n",
      " [0]\n",
      " [0]\n",
      " [0]\n",
      " [0]\n",
      " [0]\n",
      " [0]\n",
      " [0]\n",
      " [0]\n",
      " [0]\n",
      " [0]\n",
      " [0]\n",
      " [0]\n",
      " [0]\n",
      " [0]\n",
      " [0]\n",
      " [0]\n",
      " [0]\n",
      " [0]\n",
      " [0]\n",
      " [0]\n",
      " [0]\n",
      " [0]\n",
      " [0]\n",
      " [0]\n",
      " [0]\n",
      " [0]\n",
      " [0]\n",
      " [0]\n",
      " [0]]\n"
     ]
    }
   ],
   "source": [
    "m = np.repeat(17.7, len(d)).reshape(len(d),1)\n",
    "\n",
    "print (m.shape)\n",
    "print (m)\n",
    "\n",
    "c = np.repeat(1, len(d)).reshape(len(d),1)\n",
    "print (c.shape)\n",
    "print (c)\n",
    "\n",
    "t = np.repeat(0, len(d)).reshape(len(d),1)\n",
    "print (t.shape)\n",
    "print (t)"
   ]
  },
  {
   "cell_type": "markdown",
   "id": "d8b2ae01-5140-45c8-bbda-cb9949c3c29f",
   "metadata": {},
   "source": [
    "### Forming 2D array to predict peak incident pressure"
   ]
  },
  {
   "cell_type": "code",
   "execution_count": 6,
   "id": "a4756417-229e-4aea-ac5d-bb8587c64e57",
   "metadata": {},
   "outputs": [
    {
     "name": "stdout",
     "output_type": "stream",
     "text": [
      "[[ 1.    0.   17.7   2.83]\n",
      " [ 1.    0.   17.7   2.53]\n",
      " [ 1.    0.   17.7   2.29]\n",
      " [ 1.    0.   17.7   2.11]\n",
      " [ 1.    0.   17.7   2.01]\n",
      " [ 1.    0.   17.7   2.01]\n",
      " [ 1.    0.   17.7   2.11]\n",
      " [ 1.    0.   17.7   2.29]\n",
      " [ 1.    0.   17.7   2.53]\n",
      " [ 1.    0.   17.7   2.83]\n",
      " [ 1.    0.   17.7   2.53]\n",
      " [ 1.    0.   17.7   2.2 ]\n",
      " [ 1.    0.   17.7   1.91]\n",
      " [ 1.    0.   17.7   1.69]\n",
      " [ 1.    0.   17.7   1.57]\n",
      " [ 1.    0.   17.7   1.57]\n",
      " [ 1.    0.   17.7   1.69]\n",
      " [ 1.    0.   17.7   1.91]\n",
      " [ 1.    0.   17.7   2.2 ]\n",
      " [ 1.    0.   17.7   2.53]\n",
      " [ 1.    0.   17.7   2.29]\n",
      " [ 1.    0.   17.7   1.91]\n",
      " [ 1.    0.   17.7   1.57]\n",
      " [ 1.    0.   17.7   1.3 ]\n",
      " [ 1.    0.   17.7   1.13]\n",
      " [ 1.    0.   17.7   1.13]\n",
      " [ 1.    0.   17.7   1.3 ]\n",
      " [ 1.    0.   17.7   1.57]\n",
      " [ 1.    0.   17.7   1.91]\n",
      " [ 1.    0.   17.7   2.29]\n",
      " [ 1.    0.   17.7   2.11]\n",
      " [ 1.    0.   17.7   1.69]\n",
      " [ 1.    0.   17.7   1.3 ]\n",
      " [ 1.    0.   17.7   0.94]\n",
      " [ 1.    0.   17.7   0.7 ]\n",
      " [ 1.    0.   17.7   0.7 ]\n",
      " [ 1.    0.   17.7   0.94]\n",
      " [ 1.    0.   17.7   1.3 ]\n",
      " [ 1.    0.   17.7   1.69]\n",
      " [ 1.    0.   17.7   2.11]\n",
      " [ 1.    0.   17.7   2.01]\n",
      " [ 1.    0.   17.7   1.57]\n",
      " [ 1.    0.   17.7   1.13]\n",
      " [ 1.    0.   17.7   0.7 ]\n",
      " [ 1.    0.   17.7   0.31]\n",
      " [ 1.    0.   17.7   0.31]\n",
      " [ 1.    0.   17.7   0.7 ]\n",
      " [ 1.    0.   17.7   1.13]\n",
      " [ 1.    0.   17.7   1.57]\n",
      " [ 1.    0.   17.7   2.01]\n",
      " [ 1.    0.   17.7   2.01]\n",
      " [ 1.    0.   17.7   1.57]\n",
      " [ 1.    0.   17.7   1.13]\n",
      " [ 1.    0.   17.7   0.7 ]\n",
      " [ 1.    0.   17.7   0.31]\n",
      " [ 1.    0.   17.7   0.31]\n",
      " [ 1.    0.   17.7   0.7 ]\n",
      " [ 1.    0.   17.7   1.13]\n",
      " [ 1.    0.   17.7   1.57]\n",
      " [ 1.    0.   17.7   2.01]\n",
      " [ 1.    0.   17.7   2.11]\n",
      " [ 1.    0.   17.7   1.69]\n",
      " [ 1.    0.   17.7   1.3 ]\n",
      " [ 1.    0.   17.7   0.94]\n",
      " [ 1.    0.   17.7   0.7 ]\n",
      " [ 1.    0.   17.7   0.7 ]\n",
      " [ 1.    0.   17.7   0.94]\n",
      " [ 1.    0.   17.7   1.3 ]\n",
      " [ 1.    0.   17.7   1.69]\n",
      " [ 1.    0.   17.7   2.11]\n",
      " [ 1.    0.   17.7   2.29]\n",
      " [ 1.    0.   17.7   1.91]\n",
      " [ 1.    0.   17.7   1.57]\n",
      " [ 1.    0.   17.7   1.3 ]\n",
      " [ 1.    0.   17.7   1.13]\n",
      " [ 1.    0.   17.7   1.13]\n",
      " [ 1.    0.   17.7   1.3 ]\n",
      " [ 1.    0.   17.7   1.57]\n",
      " [ 1.    0.   17.7   1.91]\n",
      " [ 1.    0.   17.7   2.29]\n",
      " [ 1.    0.   17.7   2.53]\n",
      " [ 1.    0.   17.7   2.2 ]\n",
      " [ 1.    0.   17.7   1.91]\n",
      " [ 1.    0.   17.7   1.69]\n",
      " [ 1.    0.   17.7   1.57]\n",
      " [ 1.    0.   17.7   1.57]\n",
      " [ 1.    0.   17.7   1.69]\n",
      " [ 1.    0.   17.7   1.91]\n",
      " [ 1.    0.   17.7   2.2 ]\n",
      " [ 1.    0.   17.7   2.53]\n",
      " [ 1.    0.   17.7   2.83]\n",
      " [ 1.    0.   17.7   2.53]\n",
      " [ 1.    0.   17.7   2.29]\n",
      " [ 1.    0.   17.7   2.11]\n",
      " [ 1.    0.   17.7   2.01]\n",
      " [ 1.    0.   17.7   2.01]\n",
      " [ 1.    0.   17.7   2.11]\n",
      " [ 1.    0.   17.7   2.29]\n",
      " [ 1.    0.   17.7   2.53]\n",
      " [ 1.    0.   17.7   2.83]]\n"
     ]
    }
   ],
   "source": [
    "arr = np.concatenate ((c, t, m, d), axis = 1)\n",
    "print (arr)"
   ]
  },
  {
   "cell_type": "code",
   "execution_count": 7,
   "id": "72a31512-b03a-4d46-ae1c-ddc0c245b13a",
   "metadata": {},
   "outputs": [
    {
     "name": "stdout",
     "output_type": "stream",
     "text": [
      "[ 845.34 1102.78 1102.78 1882.02 1882.02 1882.02 1882.02 1102.78 1102.78\n",
      "  845.34 1102.78 1882.02 1882.02 3024.44 3024.44 3024.44 3024.44 1882.02\n",
      " 1882.02 1102.78 1102.78 1882.02 3024.44 3024.15 6854.27 6854.27 3024.15\n",
      " 3024.44 1882.02 1102.78 1882.02 3024.44 3024.15 6854.27 6854.27 6854.27\n",
      " 6854.27 3024.15 3024.44 1882.02 1882.02 3024.44 6854.27 6854.27 6854.27\n",
      " 6854.27 6854.27 6854.27 3024.44 1882.02 1882.02 3024.44 6854.27 6854.27\n",
      " 6854.27 6854.27 6854.27 6854.27 3024.44 1882.02 1882.02 3024.44 3024.15\n",
      " 6854.27 6854.27 6854.27 6854.27 3024.15 3024.44 1882.02 1102.78 1882.02\n",
      " 3024.44 3024.15 6854.27 6854.27 3024.15 3024.44 1882.02 1102.78 1102.78\n",
      " 1882.02 1882.02 3024.44 3024.44 3024.44 3024.44 1882.02 1882.02 1102.78\n",
      "  845.34 1102.78 1102.78 1882.02 1882.02 1882.02 1882.02 1102.78 1102.78\n",
      "  845.34]\n"
     ]
    }
   ],
   "source": [
    "Z_pred = regressor.predict(arr)\n",
    "print (Z_pred)"
   ]
  },
  {
   "cell_type": "markdown",
   "id": "d055d0ac-2d14-46e1-bf4c-215841d113c7",
   "metadata": {},
   "source": [
    "### Point predictions"
   ]
  },
  {
   "cell_type": "code",
   "execution_count": 8,
   "id": "d081dc9b-7a6f-43fa-866d-c0f2d28e4474",
   "metadata": {},
   "outputs": [
    {
     "name": "stdout",
     "output_type": "stream",
     "text": [
      "[[ 845.34 1102.78 1102.78 1882.02 1882.02 1882.02 1882.02 1102.78 1102.78\n",
      "   845.34]\n",
      " [1102.78 1882.02 1882.02 3024.44 3024.44 3024.44 3024.44 1882.02 1882.02\n",
      "  1102.78]\n",
      " [1102.78 1882.02 3024.44 3024.15 6854.27 6854.27 3024.15 3024.44 1882.02\n",
      "  1102.78]\n",
      " [1882.02 3024.44 3024.15 6854.27 6854.27 6854.27 6854.27 3024.15 3024.44\n",
      "  1882.02]\n",
      " [1882.02 3024.44 6854.27 6854.27 6854.27 6854.27 6854.27 6854.27 3024.44\n",
      "  1882.02]\n",
      " [1882.02 3024.44 6854.27 6854.27 6854.27 6854.27 6854.27 6854.27 3024.44\n",
      "  1882.02]\n",
      " [1882.02 3024.44 3024.15 6854.27 6854.27 6854.27 6854.27 3024.15 3024.44\n",
      "  1882.02]\n",
      " [1102.78 1882.02 3024.44 3024.15 6854.27 6854.27 3024.15 3024.44 1882.02\n",
      "  1102.78]\n",
      " [1102.78 1882.02 1882.02 3024.44 3024.44 3024.44 3024.44 1882.02 1882.02\n",
      "  1102.78]\n",
      " [ 845.34 1102.78 1102.78 1882.02 1882.02 1882.02 1882.02 1102.78 1102.78\n",
      "   845.34]]\n"
     ]
    }
   ],
   "source": [
    "Z_pred = Z_pred.reshape(10, 10)\n",
    "print (Z_pred)"
   ]
  },
  {
   "cell_type": "code",
   "execution_count": 28,
   "id": "e06aed66-7da8-434f-a5a4-760104266e63",
   "metadata": {},
   "outputs": [
    {
     "data": {
      "image/png": "[encoded data removed]",
      "text/plain": [
       "<Figure size 432x360 with 2 Axes>"
      ]
     },
     "metadata": {
      "needs_background": "light"
     },
     "output_type": "display_data"
    }
   ],
   "source": [
    "fig = plt.figure(figsize=(6,5))\n",
    "left, bottom, width, height = 0.1, 0.1, 0.8, 0.8\n",
    "ax = fig.add_axes([left, bottom, width, height]) \n",
    "cp = plt.contourf(X, Y, Z_pred, levels = [100, 250, 500, 750, 1000, 1500, 2900, 7100, 8500, 12700], cmap = 'viridis')\n",
    "plt.colorbar(cp)\n",
    "\n",
    "ax.set_title('Contour Plot')\n",
    "ax.set_xlabel('x (m)')\n",
    "ax.set_ylabel('y (m)')\n",
    "plt.show()"
   ]
  },
  {
   "cell_type": "markdown",
   "id": "d46c7b93-3d5e-45cb-9daf-3aa21b9e2065",
   "metadata": {},
   "source": [
    "### Peak incident pressure contours"
   ]
  },
  {
   "cell_type": "code",
   "execution_count": 14,
   "id": "a464496c-f3b3-450f-bc20-61b342ff1da5",
   "metadata": {},
   "outputs": [
    {
     "data": {
      "image/png": "[encoded data removed]",
      "text/plain": [
       "<Figure size 432x360 with 2 Axes>"
      ]
     },
     "metadata": {
      "needs_background": "light"
     },
     "output_type": "display_data"
    }
   ],
   "source": [
    "fig = plt.figure(figsize=(6,5))\n",
    "left, bottom, width, height = 0.1, 0.1, 0.8, 0.8\n",
    "ax = fig.add_axes([left, bottom, width, height]) \n",
    "levels = np.linspace(840, 10850, 101)\n",
    "cp = plt.contourf(X, Y, Z_pred, levels = levels, cmap = 'gist_rainbow_r')\n",
    "plt.colorbar(cp)\n",
    "\n",
    "ax.set_title('Peak Incident Pressure Contour Plot')\n",
    "ax.set_xlabel('x (m)')\n",
    "ax.set_ylabel('y (m)')\n",
    "plt.show()"
   ]
  }
 ],
 "metadata": {
  "kernelspec": {
   "display_name": "Python 3 (ipykernel)",
   "language": "python",
   "name": "python3"
  },
  "language_info": {
   "codemirror_mode": {
    "name": "ipython",
    "version": 3
   },
   "file_extension": ".py",
   "mimetype": "text/x-python",
   "name": "python",
   "nbconvert_exporter": "python",
   "pygments_lexer": "ipython3",
   "version": "3.9.7"
  }
 },
 "nbformat": 4,
 "nbformat_minor": 5
}
